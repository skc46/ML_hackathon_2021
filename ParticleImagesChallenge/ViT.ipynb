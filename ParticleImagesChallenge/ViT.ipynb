{
  "nbformat": 4,
  "nbformat_minor": 0,
  "metadata": {
    "colab": {
      "name": "ViT_ML4Sci",
      "provenance": []
    },
    "kernelspec": {
      "name": "python3",
      "display_name": "Python 3"
    },
    "language_info": {
      "name": "python"
    }
  },
  "cells": [
    {
      "cell_type": "markdown",
      "metadata": {
        "id": "1m5gG93qfz80"
      },
      "source": [
        "<a href=\"https://colab.research.google.com/github/ML4SCI/ML4SCIHackathon/blob/main/ParticleImagesChallenge/ViT.ipynb\" target=\"_parent\"><img src=\"https://colab.research.google.com/assets/colab-badge.svg\" alt=\"Open In Colab\"/></a><h1>ML4SCI Hackathon 2021</h1>\n",
        "<h2>Problem Statement : </h2>\n",
        "\n",
        "*   One of the important aspects of searches for new physics at the Large Hadron Collider (LHC) involves the classification of various High-Energy Particles in collision events\n",
        "*   The goal of this challenge is to implement Vision Transformers on the dataset which will classify electron and photon particles as accurately as possible based on the detector images provided in the dataset.\n",
        "      *  Dataset:\n",
        "              https://cernbox.cern.ch/index.php/s/AtBT8y4MiQYFcgc (Photons)\n",
        "              https://cernbox.cern.ch/index.php/s/FbXw3V4XNyYB3oA (Electrons)\n",
        "      *  The dataset consists of 32x32 matrices (two channels - hit energy and time) for two classes of particles electrons and photons impinging on a calorimeter. \n",
        "*   The preferred metric for evaluating the model is ROC curve (Receiver Operating Characteristic curve) and the AUC (Area Under the ROC Curve) score.\n",
        "\n",
        "## Vision Tranformers:\n",
        "The field of Computer Vision has for years been dominated by Convolutional Neural Networks (CNNs) which use filters and create feature used by a multi-layer perceptron to perform the desired classification.\n",
        "But recently this field has been incredibly revolutionized by the architecture of Vision Transformers (ViT), which through the mechanism of self-attention has proven to obtain excellent results on many tasks.\n",
        "\n",
        "### How the Vision Transformer works in a nutshell\n",
        "1. Split an image into patches\n",
        "\n",
        "2. Flatten the patches\n",
        "\n",
        "3. Produce lower-dimensional linear embeddings from the flattened patches\n",
        "\n",
        "4. Add positional embeddings\n",
        "\n",
        "5. Feed the sequence as an input to a standard transformer encoder\n",
        "\n",
        "6. Pretrain the model with image labels (fully supervised on a huge dataset)\n",
        "\n",
        "7. Finetune on the downstream dataset for image classification<br>\n",
        "\n",
        "### Arcitecture\n",
        "<img src=\"https://miro.medium.com/max/3000/1*58xYTXTkcwsu2VwmYczcrg.png\" alt=\"Trulli\" >\n",
        "\n",
        "*    Reference link to understand Vision Transformers: https://arxiv.org/pdf/2010.11929.pdf \n",
        "*   The following is an example of keras implementation of ViT, feel free to implement using keras/ pytorch.\n",
        "\n",
        "\n",
        "\n",
        "\n",
        "\n",
        "\n",
        "\n"
      ]
    },
    {
      "cell_type": "code",
      "metadata": {
        "id": "4Tt4NS5dYroX"
      },
      "source": [
        "mkdir Particle_Images"
      ],
      "execution_count": 1,
      "outputs": []
    },
    {
      "cell_type": "code",
      "metadata": {
        "id": "eDOu7sL4qmwW",
        "outputId": "a30324b2-82c9-4a84-d3a3-fd14bae72a6a",
        "colab": {
          "base_uri": "https://localhost:8080/"
        }
      },
      "source": [
        "cd Particle_Images"
      ],
      "execution_count": 2,
      "outputs": [
        {
          "output_type": "stream",
          "name": "stdout",
          "text": [
            "/content/Particle_Images\n"
          ]
        }
      ]
    },
    {
      "cell_type": "code",
      "metadata": {
        "id": "yj3E9Y8pqr1O"
      },
      "source": [
        "mkdir data/"
      ],
      "execution_count": 3,
      "outputs": []
    },
    {
      "cell_type": "code",
      "metadata": {
        "id": "zqwKKoWCsmM3",
        "outputId": "7efb6fc6-6e30-4ed0-b146-c295c93d781a",
        "colab": {
          "base_uri": "https://localhost:8080/",
          "height": 36
        }
      },
      "source": [
        "pwd"
      ],
      "execution_count": 12,
      "outputs": [
        {
          "output_type": "execute_result",
          "data": {
            "application/vnd.google.colaboratory.intrinsic+json": {
              "type": "string"
            },
            "text/plain": [
              "'/content/Particle_Images'"
            ]
          },
          "metadata": {},
          "execution_count": 12
        }
      ]
    },
    {
      "cell_type": "markdown",
      "metadata": {
        "id": "uCiTa-Iyq8sy"
      },
      "source": [
        "# Download the Dataset"
      ]
    },
    {
      "cell_type": "code",
      "metadata": {
        "id": "AYBEoLpyrAz3",
        "outputId": "40a4add1-8304-4128-83bd-16b206615036",
        "colab": {
          "base_uri": "https://localhost:8080/"
        }
      },
      "source": [
        "!wget https://cernbox.cern.ch/index.php/s/FbXw3V4XNyYB3oA/download -O data/SingleElectronPt50_IMGCROPS_n249k_RHv1.hdf5\n",
        "!wget https://cernbox.cern.ch/index.php/s/AtBT8y4MiQYFcgc/download -O data/SinglePhotonPt50_IMGCROPS_n249k_RHv1.hdf5"
      ],
      "execution_count": 4,
      "outputs": [
        {
          "output_type": "stream",
          "name": "stdout",
          "text": [
            "--2021-11-23 01:52:13--  https://cernbox.cern.ch/index.php/s/FbXw3V4XNyYB3oA/download\n",
            "Resolving cernbox.cern.ch (cernbox.cern.ch)... 128.142.53.35, 188.184.97.72, 137.138.120.151, ...\n",
            "Connecting to cernbox.cern.ch (cernbox.cern.ch)|128.142.53.35|:443... connected.\n",
            "HTTP request sent, awaiting response... 200 OK\n",
            "Length: 128927319 (123M) [application/octet-stream]\n",
            "Saving to: ‘data/SingleElectronPt50_IMGCROPS_n249k_RHv1.hdf5’\n",
            "\n",
            "data/SingleElectron 100%[===================>] 122.95M  18.4MB/s    in 8.0s    \n",
            "\n",
            "Last-modified header invalid -- time-stamp ignored.\n",
            "2021-11-23 01:52:24 (15.4 MB/s) - ‘data/SingleElectronPt50_IMGCROPS_n249k_RHv1.hdf5’ saved [128927319/128927319]\n",
            "\n",
            "--2021-11-23 01:52:24--  https://cernbox.cern.ch/index.php/s/AtBT8y4MiQYFcgc/download\n",
            "Resolving cernbox.cern.ch (cernbox.cern.ch)... 128.142.53.28, 188.184.97.72, 137.138.120.151, ...\n",
            "Connecting to cernbox.cern.ch (cernbox.cern.ch)|128.142.53.28|:443... connected.\n",
            "HTTP request sent, awaiting response... 200 OK\n",
            "Length: 119703858 (114M) [application/octet-stream]\n",
            "Saving to: ‘data/SinglePhotonPt50_IMGCROPS_n249k_RHv1.hdf5’\n",
            "\n",
            "data/SinglePhotonPt 100%[===================>] 114.16M  18.9MB/s    in 7.2s    \n",
            "\n",
            "Last-modified header invalid -- time-stamp ignored.\n",
            "2021-11-23 01:52:34 (15.9 MB/s) - ‘data/SinglePhotonPt50_IMGCROPS_n249k_RHv1.hdf5’ saved [119703858/119703858]\n",
            "\n"
          ]
        }
      ]
    },
    {
      "cell_type": "code",
      "metadata": {
        "id": "s1SyIbTvs02i",
        "outputId": "3dd19660-0048-4b46-debe-3b25e5cd8236",
        "colab": {
          "base_uri": "https://localhost:8080/"
        }
      },
      "source": [
        "ls"
      ],
      "execution_count": 9,
      "outputs": [
        {
          "output_type": "stream",
          "name": "stdout",
          "text": [
            "AtBT8y4MiQYFcgc  FbXw3V4XNyYB3oA\n"
          ]
        }
      ]
    },
    {
      "cell_type": "markdown",
      "metadata": {
        "id": "cVep_a37nHnA"
      },
      "source": [
        "1.   Mount the drive and navigate to your working folder \n",
        "2.   Download the dataset\n",
        "     *    https://cernbox.cern.ch/index.php/s/AtBT8y4MiQYFcgc (Photons)\n",
        "     *     https://cernbox.cern.ch/index.php/s/FbXw3V4XNyYB3oA (Electrons)\n",
        "3.   It is recommended to use GPU for training and inference if possible.\n",
        "4.   Install the following dependencies\n",
        "\n"
      ]
    },
    {
      "cell_type": "code",
      "metadata": {
        "colab": {
          "base_uri": "https://localhost:8080/"
        },
        "id": "N_TRXhZq19x7",
        "outputId": "e9fd5c0c-1f98-45b8-84b0-914c3c6707ee"
      },
      "source": [
        "!pip install -U tensorflow-addons"
      ],
      "execution_count": 5,
      "outputs": [
        {
          "output_type": "stream",
          "name": "stdout",
          "text": [
            "Collecting tensorflow-addons\n",
            "  Downloading tensorflow_addons-0.15.0-cp37-cp37m-manylinux_2_12_x86_64.manylinux2010_x86_64.whl (1.1 MB)\n",
            "\u001b[?25l\r\u001b[K     |▎                               | 10 kB 32.3 MB/s eta 0:00:01\r\u001b[K     |▋                               | 20 kB 25.3 MB/s eta 0:00:01\r\u001b[K     |▉                               | 30 kB 19.1 MB/s eta 0:00:01\r\u001b[K     |█▏                              | 40 kB 16.1 MB/s eta 0:00:01\r\u001b[K     |█▌                              | 51 kB 9.0 MB/s eta 0:00:01\r\u001b[K     |█▊                              | 61 kB 9.4 MB/s eta 0:00:01\r\u001b[K     |██                              | 71 kB 9.2 MB/s eta 0:00:01\r\u001b[K     |██▍                             | 81 kB 10.3 MB/s eta 0:00:01\r\u001b[K     |██▋                             | 92 kB 10.4 MB/s eta 0:00:01\r\u001b[K     |███                             | 102 kB 8.5 MB/s eta 0:00:01\r\u001b[K     |███▎                            | 112 kB 8.5 MB/s eta 0:00:01\r\u001b[K     |███▌                            | 122 kB 8.5 MB/s eta 0:00:01\r\u001b[K     |███▉                            | 133 kB 8.5 MB/s eta 0:00:01\r\u001b[K     |████▏                           | 143 kB 8.5 MB/s eta 0:00:01\r\u001b[K     |████▍                           | 153 kB 8.5 MB/s eta 0:00:01\r\u001b[K     |████▊                           | 163 kB 8.5 MB/s eta 0:00:01\r\u001b[K     |█████                           | 174 kB 8.5 MB/s eta 0:00:01\r\u001b[K     |█████▎                          | 184 kB 8.5 MB/s eta 0:00:01\r\u001b[K     |█████▋                          | 194 kB 8.5 MB/s eta 0:00:01\r\u001b[K     |█████▉                          | 204 kB 8.5 MB/s eta 0:00:01\r\u001b[K     |██████▏                         | 215 kB 8.5 MB/s eta 0:00:01\r\u001b[K     |██████▌                         | 225 kB 8.5 MB/s eta 0:00:01\r\u001b[K     |██████▊                         | 235 kB 8.5 MB/s eta 0:00:01\r\u001b[K     |███████                         | 245 kB 8.5 MB/s eta 0:00:01\r\u001b[K     |███████▍                        | 256 kB 8.5 MB/s eta 0:00:01\r\u001b[K     |███████▋                        | 266 kB 8.5 MB/s eta 0:00:01\r\u001b[K     |████████                        | 276 kB 8.5 MB/s eta 0:00:01\r\u001b[K     |████████▎                       | 286 kB 8.5 MB/s eta 0:00:01\r\u001b[K     |████████▌                       | 296 kB 8.5 MB/s eta 0:00:01\r\u001b[K     |████████▉                       | 307 kB 8.5 MB/s eta 0:00:01\r\u001b[K     |█████████                       | 317 kB 8.5 MB/s eta 0:00:01\r\u001b[K     |█████████▍                      | 327 kB 8.5 MB/s eta 0:00:01\r\u001b[K     |█████████▊                      | 337 kB 8.5 MB/s eta 0:00:01\r\u001b[K     |██████████                      | 348 kB 8.5 MB/s eta 0:00:01\r\u001b[K     |██████████▎                     | 358 kB 8.5 MB/s eta 0:00:01\r\u001b[K     |██████████▋                     | 368 kB 8.5 MB/s eta 0:00:01\r\u001b[K     |██████████▉                     | 378 kB 8.5 MB/s eta 0:00:01\r\u001b[K     |███████████▏                    | 389 kB 8.5 MB/s eta 0:00:01\r\u001b[K     |███████████▌                    | 399 kB 8.5 MB/s eta 0:00:01\r\u001b[K     |███████████▊                    | 409 kB 8.5 MB/s eta 0:00:01\r\u001b[K     |████████████                    | 419 kB 8.5 MB/s eta 0:00:01\r\u001b[K     |████████████▍                   | 430 kB 8.5 MB/s eta 0:00:01\r\u001b[K     |████████████▋                   | 440 kB 8.5 MB/s eta 0:00:01\r\u001b[K     |█████████████                   | 450 kB 8.5 MB/s eta 0:00:01\r\u001b[K     |█████████████▎                  | 460 kB 8.5 MB/s eta 0:00:01\r\u001b[K     |█████████████▌                  | 471 kB 8.5 MB/s eta 0:00:01\r\u001b[K     |█████████████▉                  | 481 kB 8.5 MB/s eta 0:00:01\r\u001b[K     |██████████████                  | 491 kB 8.5 MB/s eta 0:00:01\r\u001b[K     |██████████████▍                 | 501 kB 8.5 MB/s eta 0:00:01\r\u001b[K     |██████████████▊                 | 512 kB 8.5 MB/s eta 0:00:01\r\u001b[K     |███████████████                 | 522 kB 8.5 MB/s eta 0:00:01\r\u001b[K     |███████████████▎                | 532 kB 8.5 MB/s eta 0:00:01\r\u001b[K     |███████████████▋                | 542 kB 8.5 MB/s eta 0:00:01\r\u001b[K     |███████████████▉                | 552 kB 8.5 MB/s eta 0:00:01\r\u001b[K     |████████████████▏               | 563 kB 8.5 MB/s eta 0:00:01\r\u001b[K     |████████████████▌               | 573 kB 8.5 MB/s eta 0:00:01\r\u001b[K     |████████████████▊               | 583 kB 8.5 MB/s eta 0:00:01\r\u001b[K     |█████████████████               | 593 kB 8.5 MB/s eta 0:00:01\r\u001b[K     |█████████████████▍              | 604 kB 8.5 MB/s eta 0:00:01\r\u001b[K     |█████████████████▋              | 614 kB 8.5 MB/s eta 0:00:01\r\u001b[K     |██████████████████              | 624 kB 8.5 MB/s eta 0:00:01\r\u001b[K     |██████████████████▏             | 634 kB 8.5 MB/s eta 0:00:01\r\u001b[K     |██████████████████▌             | 645 kB 8.5 MB/s eta 0:00:01\r\u001b[K     |██████████████████▉             | 655 kB 8.5 MB/s eta 0:00:01\r\u001b[K     |███████████████████             | 665 kB 8.5 MB/s eta 0:00:01\r\u001b[K     |███████████████████▍            | 675 kB 8.5 MB/s eta 0:00:01\r\u001b[K     |███████████████████▊            | 686 kB 8.5 MB/s eta 0:00:01\r\u001b[K     |████████████████████            | 696 kB 8.5 MB/s eta 0:00:01\r\u001b[K     |████████████████████▎           | 706 kB 8.5 MB/s eta 0:00:01\r\u001b[K     |████████████████████▋           | 716 kB 8.5 MB/s eta 0:00:01\r\u001b[K     |████████████████████▉           | 727 kB 8.5 MB/s eta 0:00:01\r\u001b[K     |█████████████████████▏          | 737 kB 8.5 MB/s eta 0:00:01\r\u001b[K     |█████████████████████▌          | 747 kB 8.5 MB/s eta 0:00:01\r\u001b[K     |█████████████████████▊          | 757 kB 8.5 MB/s eta 0:00:01\r\u001b[K     |██████████████████████          | 768 kB 8.5 MB/s eta 0:00:01\r\u001b[K     |██████████████████████▎         | 778 kB 8.5 MB/s eta 0:00:01\r\u001b[K     |██████████████████████▋         | 788 kB 8.5 MB/s eta 0:00:01\r\u001b[K     |███████████████████████         | 798 kB 8.5 MB/s eta 0:00:01\r\u001b[K     |███████████████████████▏        | 808 kB 8.5 MB/s eta 0:00:01\r\u001b[K     |███████████████████████▌        | 819 kB 8.5 MB/s eta 0:00:01\r\u001b[K     |███████████████████████▉        | 829 kB 8.5 MB/s eta 0:00:01\r\u001b[K     |████████████████████████        | 839 kB 8.5 MB/s eta 0:00:01\r\u001b[K     |████████████████████████▍       | 849 kB 8.5 MB/s eta 0:00:01\r\u001b[K     |████████████████████████▊       | 860 kB 8.5 MB/s eta 0:00:01\r\u001b[K     |█████████████████████████       | 870 kB 8.5 MB/s eta 0:00:01\r\u001b[K     |█████████████████████████▎      | 880 kB 8.5 MB/s eta 0:00:01\r\u001b[K     |█████████████████████████▋      | 890 kB 8.5 MB/s eta 0:00:01\r\u001b[K     |█████████████████████████▉      | 901 kB 8.5 MB/s eta 0:00:01\r\u001b[K     |██████████████████████████▏     | 911 kB 8.5 MB/s eta 0:00:01\r\u001b[K     |██████████████████████████▌     | 921 kB 8.5 MB/s eta 0:00:01\r\u001b[K     |██████████████████████████▊     | 931 kB 8.5 MB/s eta 0:00:01\r\u001b[K     |███████████████████████████     | 942 kB 8.5 MB/s eta 0:00:01\r\u001b[K     |███████████████████████████▎    | 952 kB 8.5 MB/s eta 0:00:01\r\u001b[K     |███████████████████████████▋    | 962 kB 8.5 MB/s eta 0:00:01\r\u001b[K     |████████████████████████████    | 972 kB 8.5 MB/s eta 0:00:01\r\u001b[K     |████████████████████████████▏   | 983 kB 8.5 MB/s eta 0:00:01\r\u001b[K     |████████████████████████████▌   | 993 kB 8.5 MB/s eta 0:00:01\r\u001b[K     |████████████████████████████▉   | 1.0 MB 8.5 MB/s eta 0:00:01\r\u001b[K     |█████████████████████████████   | 1.0 MB 8.5 MB/s eta 0:00:01\r\u001b[K     |█████████████████████████████▍  | 1.0 MB 8.5 MB/s eta 0:00:01\r\u001b[K     |█████████████████████████████▊  | 1.0 MB 8.5 MB/s eta 0:00:01\r\u001b[K     |██████████████████████████████  | 1.0 MB 8.5 MB/s eta 0:00:01\r\u001b[K     |██████████████████████████████▎ | 1.1 MB 8.5 MB/s eta 0:00:01\r\u001b[K     |██████████████████████████████▋ | 1.1 MB 8.5 MB/s eta 0:00:01\r\u001b[K     |██████████████████████████████▉ | 1.1 MB 8.5 MB/s eta 0:00:01\r\u001b[K     |███████████████████████████████▏| 1.1 MB 8.5 MB/s eta 0:00:01\r\u001b[K     |███████████████████████████████▍| 1.1 MB 8.5 MB/s eta 0:00:01\r\u001b[K     |███████████████████████████████▊| 1.1 MB 8.5 MB/s eta 0:00:01\r\u001b[K     |████████████████████████████████| 1.1 MB 8.5 MB/s \n",
            "\u001b[?25hRequirement already satisfied: typeguard>=2.7 in /usr/local/lib/python3.7/dist-packages (from tensorflow-addons) (2.7.1)\n",
            "Installing collected packages: tensorflow-addons\n",
            "Successfully installed tensorflow-addons-0.15.0\n"
          ]
        }
      ]
    },
    {
      "cell_type": "code",
      "metadata": {
        "id": "1yk4X8gAqHDo"
      },
      "source": [
        "doGPU = True"
      ],
      "execution_count": 6,
      "outputs": []
    },
    {
      "cell_type": "code",
      "metadata": {
        "id": "QxoMAypJfzoB"
      },
      "source": [
        "if doGPU:\n",
        "    import tensorflow as tf\n",
        "    from tensorflow.compat.v1.keras.backend import set_session\n",
        "    config = tf.compat.v1.ConfigProto()\n",
        "    config.gpu_options.allow_growth=True\n",
        "    set_session(tf.compat.v1.Session(config=config))"
      ],
      "execution_count": 7,
      "outputs": []
    },
    {
      "cell_type": "code",
      "metadata": {
        "id": "Q_1XQnx22Dxo"
      },
      "source": [
        "# import libraries \n",
        "import numpy as np\n",
        "import tensorflow as tf\n",
        "from tensorflow import keras\n",
        "from tensorflow.keras import layers\n",
        "import tensorflow_addons as tfa\n",
        "from tensorflow.keras.layers import Dense, Activation \n",
        "from tensorflow.keras.layers import Dropout \n",
        "from tensorflow.keras import regularizers \n",
        "from tensorflow.keras import initializers\n",
        "from tensorflow.keras import metrics"
      ],
      "execution_count": 8,
      "outputs": []
    },
    {
      "cell_type": "code",
      "metadata": {
        "id": "GAxGtcNcrMxa"
      },
      "source": [
        "img_rows, img_cols, nb_channels = 32, 32, 1        \n",
        "input_dir = 'data'\n",
        "decays = ['SinglePhotonPt50_IMGCROPS_n249k_RHv1', 'SingleElectronPt50_IMGCROPS_n249k_RHv1']\n",
        "\n",
        "def load_data(decays, start, stop):\n",
        "    global input_dir\n",
        "    dsets = [h5py.File('%s/%s.hdf5'%(input_dir,decay)) for decay in decays]\n",
        "    X = np.concatenate([dset['/X'][start:stop] for dset in dsets])\n",
        "    y = np.concatenate([dset['/y'][start:stop] for dset in dsets])\n",
        "    assert len(X) == len(y)\n",
        "    return X, y"
      ],
      "execution_count": 9,
      "outputs": []
    },
    {
      "cell_type": "code",
      "metadata": {
        "id": "fE0jgEl9sYMA",
        "outputId": "958e79df-8db8-4005-deea-642018d36915",
        "colab": {
          "base_uri": "https://localhost:8080/"
        }
      },
      "source": [
        "ls data/"
      ],
      "execution_count": 19,
      "outputs": [
        {
          "output_type": "stream",
          "name": "stdout",
          "text": [
            "AtBT8y4MiQYFcgc  SingleElectronPt50_IMGCROPS_n249k_RHv1.hdf5\n",
            "FbXw3V4XNyYB3oA  SinglePhotonPt50_IMGCROPS_n249k_RHv1.hdf5\n"
          ]
        }
      ]
    },
    {
      "cell_type": "markdown",
      "metadata": {
        "id": "ODBkx1m2nxp8"
      },
      "source": [
        "Load the dataset"
      ]
    },
    {
      "cell_type": "code",
      "metadata": {
        "id": "oph9Ylri2G3G"
      },
      "source": [
        "import h5py\n",
        "import numpy as np\n",
        "\n",
        "filename = \"data/SingleElectronPt50_IMGCROPS_n249k_RHv1.hdf5\"\n",
        "data1 = h5py.File(filename, \"r\")\n",
        "Y1 = data1[\"y\"]\n",
        "X1 = data1[\"X\"]\n",
        "filename = \"data/SinglePhotonPt50_IMGCROPS_n249k_RHv1.hdf5\"\n",
        "data0 = h5py.File(filename, \"r\")\n",
        "Y0 = data0[\"y\"]\n",
        "X0 = data0[\"X\"]\n",
        "X_final = np.concatenate((X0[:], X1[:]), axis=0)\n",
        "Y_final = np.concatenate((Y0[:], Y1[:]), axis=0)"
      ],
      "execution_count": 10,
      "outputs": []
    },
    {
      "cell_type": "code",
      "metadata": {
        "colab": {
          "base_uri": "https://localhost:8080/"
        },
        "id": "s82ugEPY2MkZ",
        "outputId": "260415d0-ce79-4035-e810-bd87a9645a08"
      },
      "source": [
        "X_final.shape"
      ],
      "execution_count": 11,
      "outputs": [
        {
          "output_type": "execute_result",
          "data": {
            "text/plain": [
              "(498000, 32, 32, 2)"
            ]
          },
          "metadata": {},
          "execution_count": 11
        }
      ]
    },
    {
      "cell_type": "markdown",
      "metadata": {
        "id": "HBU0KjpGn3zq"
      },
      "source": [
        "Prepare the data\n",
        "\n",
        "\n"
      ]
    },
    {
      "cell_type": "code",
      "metadata": {
        "colab": {
          "base_uri": "https://localhost:8080/"
        },
        "id": "rh1ukYc22R1q",
        "outputId": "387014ed-92aa-4b72-ea88-84a6c21e02c1"
      },
      "source": [
        "num_classes = 1\n",
        "input_shape = (32, 32, 1) #Using the Hit-Energy channel only\n",
        "\n",
        "from sklearn.model_selection import train_test_split\n",
        "\n",
        "x_train, x_test, y_train, y_test = train_test_split(\n",
        "    X_final[:, :, :,0:1],\n",
        "    Y_final,\n",
        "    test_size=0.2,\n",
        "    random_state=42\n",
        ")\n",
        "    \n",
        "print(f\"x_train shape: {x_train.shape} - y_train shape: {y_train.shape}\")\n",
        "print(f\"x_test shape: {x_test.shape} - y_test shape: {y_test.shape}\")"
      ],
      "execution_count": 11,
      "outputs": [
        {
          "output_type": "stream",
          "name": "stdout",
          "text": [
            "x_train shape: (398400, 32, 32, 1) - y_train shape: (398400,)\n",
            "x_test shape: (99600, 32, 32, 1) - y_test shape: (99600,)\n"
          ]
        }
      ]
    },
    {
      "cell_type": "markdown",
      "metadata": {
        "id": "r0sZ9uqooU3w"
      },
      "source": [
        "Configure the hyperparameters"
      ]
    },
    {
      "cell_type": "code",
      "metadata": {
        "id": "LpH8ITJg2Uv7"
      },
      "source": [
        "learning_rate = 0.001\n",
        "weight_decay = 0.0001\n",
        "batch_size = 64\n",
        "num_epochs = 20\n",
        "image_size = 32 # We'll resize input images to this size\n",
        "patch_size = 4  # Size of the patches to be extract from the input images\n",
        "num_patches = (image_size // patch_size) ** 2\n",
        "projection_dim = 32\n",
        "num_heads = 4\n",
        "transformer_units = [\n",
        "    projection_dim * 2,\n",
        "    projection_dim,\n",
        "]  # Size of the transformer layers\n",
        "transformer_layers = 8\n",
        "mlp_head_units = [256,128,64]  # Size of the dense layers of the final classifier"
      ],
      "execution_count": 27,
      "outputs": []
    },
    {
      "cell_type": "markdown",
      "metadata": {
        "id": "oyQwJUbkoksG"
      },
      "source": [
        "Normalize the data <br>\n",
        "<sub><sup>You can additionally augment it (following the commented part)</sup></sub>"
      ]
    },
    {
      "cell_type": "code",
      "metadata": {
        "id": "5BQcvqCP2h9D"
      },
      "source": [
        "data_augmentation = keras.Sequential(\n",
        "    [\n",
        "        layers.Normalization(),\n",
        "        #layers.Resizing(image_size, image_size),\n",
        "        #layers.RandomFlip(\"horizontal\"),\n",
        "        #layers.RandomRotation(factor=0.02),\n",
        "        #layers.RandomZoom(\n",
        "         #   height_factor = 0.2, width_factor = 0.2\n",
        "        #),\n",
        "    ],\n",
        "    name=\"data_augmentation\",\n",
        ")\n",
        "# Compute the mean and the variance of the training data for normalization.\n",
        "data_augmentation.layers[0].adapt(x_train)"
      ],
      "execution_count": 23,
      "outputs": []
    },
    {
      "cell_type": "markdown",
      "metadata": {
        "id": "9MdmddezpfIM"
      },
      "source": [
        "Implement multilayer perceptron (MLP)"
      ]
    },
    {
      "cell_type": "code",
      "metadata": {
        "id": "t79kXlVQ2s7y"
      },
      "source": [
        "def mlp(x, hidden_units, dropout_rate):  # hidden_units represents number of dense layers\n",
        "    for units in hidden_units:\n",
        "        x = layers.Dense(units, activation=tf.nn.gelu)(x)\n",
        "        x = layers.Dropout(dropout_rate)(x)\n",
        "    return x"
      ],
      "execution_count": 14,
      "outputs": []
    },
    {
      "cell_type": "markdown",
      "metadata": {
        "id": "gGrI1Ce7pl4r"
      },
      "source": [
        "Implement patch creation as a layer"
      ]
    },
    {
      "cell_type": "code",
      "metadata": {
        "id": "ngv0eDD02nsM"
      },
      "source": [
        "class Patches(layers.Layer):\n",
        "    def __init__(self, patch_size):\n",
        "        super(Patches, self).__init__()\n",
        "        self.patch_size = patch_size\n",
        "\n",
        "    def call(self, images):\n",
        "        batch_size = tf.shape(images)[0]\n",
        "        patches = tf.image.extract_patches(\n",
        "            images=images,\n",
        "            sizes=[1, self.patch_size, self.patch_size, 1],\n",
        "            strides=[1, self.patch_size, self.patch_size, 1],\n",
        "            rates=[1, 1, 1, 1],\n",
        "            padding=\"VALID\",\n",
        "        )\n",
        "        patch_dims = patches.shape[-1]\n",
        "        patches = tf.reshape(patches, [batch_size, -1, patch_dims])\n",
        "        return patches\n"
      ],
      "execution_count": 15,
      "outputs": []
    },
    {
      "cell_type": "markdown",
      "metadata": {
        "id": "BcPd8c5Fptk2"
      },
      "source": [
        "Display patches for a sample image"
      ]
    },
    {
      "cell_type": "code",
      "metadata": {
        "colab": {
          "base_uri": "https://localhost:8080/",
          "height": 570
        },
        "id": "QB2h57h22vn7",
        "outputId": "dd214bc9-4d47-4bf8-abd6-6784c2d68b64"
      },
      "source": [
        "import matplotlib.pyplot as plt\n",
        "\n",
        "plt.figure(figsize=(4, 4))\n",
        "image = x_train[0,:,:,0]\n",
        "plt.imshow(image.astype(\"float32\"))\n",
        "#plt.axis(\"off\")#\n",
        "\n",
        "patches = Patches(patch_size)(x_train[0:1,:,:,0:1])\n",
        "print(f\"Image size: {image_size} X {image_size}\")\n",
        "print(f\"Patch size: {patch_size} X {patch_size}\")\n",
        "print(f\"Patches per image: {patches.shape[1]}\")\n",
        "print(f\"Elements per patch: {patches.shape[-1]}\")\n",
        "\n",
        "n = int(np.sqrt(patches.shape[1]))\n",
        "plt.figure(figsize=(4, 4))\n",
        "for i, patch in enumerate(patches[0]):\n",
        "    ax = plt.subplot(n, n, i + 1)\n",
        "    patch_img = tf.reshape(patch, (patch_size, patch_size))\n",
        "    plt.imshow(patch_img.numpy().astype(\"float32\"))\n",
        "    plt.axis(\"off\")"
      ],
      "execution_count": 52,
      "outputs": [
        {
          "output_type": "stream",
          "name": "stdout",
          "text": [
            "Image size: 32 X 32\n",
            "Patch size: 5 X 5\n",
            "Patches per image: 36\n",
            "Elements per patch: 25\n"
          ]
        },
        {
          "output_type": "display_data",
          "data": {
            "image/png": "[encoded data removed]",
            "text/plain": [
              "<Figure size 288x288 with 1 Axes>"
            ]
          },
          "metadata": {
            "needs_background": "light"
          }
        },
        {
          "output_type": "display_data",
          "data": {
            "image/png": "[encoded data removed]",
            "text/plain": [
              "<Figure size 288x288 with 36 Axes>"
            ]
          },
          "metadata": {
            "needs_background": "light"
          }
        }
      ]
    },
    {
      "cell_type": "markdown",
      "metadata": {
        "id": "uI65ZIsap130"
      },
      "source": [
        "Implement the patch encoding layer<br>\n",
        "<sub>The PatchEncoder layer will linearly transform a patch by projecting it into a vector of size projection_dim. In addition, it adds a learnable position embedding to the projected vector.</sub>"
      ]
    },
    {
      "cell_type": "code",
      "metadata": {
        "id": "bCxJ-9B-2x-r"
      },
      "source": [
        "class PatchEncoder(layers.Layer):\n",
        "    def __init__(self, num_patches, projection_dim):\n",
        "        super(PatchEncoder, self).__init__()\n",
        "        self.num_patches = num_patches\n",
        "        self.projection = layers.Dense(units=projection_dim)\n",
        "        self.position_embedding = layers.Embedding(\n",
        "            input_dim=num_patches, output_dim=projection_dim\n",
        "        )\n",
        "\n",
        "    def call(self, patch):\n",
        "        positions = tf.range(start=0, limit=self.num_patches, delta=1)\n",
        "        encoded = self.projection(patch) + self.position_embedding(positions)\n",
        "        return encoded"
      ],
      "execution_count": 16,
      "outputs": []
    },
    {
      "cell_type": "markdown",
      "metadata": {
        "id": "SLp1jpT1qP38"
      },
      "source": [
        "Build the ViT model<br>\n",
        "<sub>The ViT model consists of multiple Transformer blocks, which use the layers.MultiHeadAttention layer as a self-attention mechanism applied to the sequence of patches. The Transformer blocks produce a [batch_size, num_patches, projection_dim] tensor, which is processed via an classifier head with softmax to produce the final class probabilities output."
      ]
    },
    {
      "cell_type": "code",
      "metadata": {
        "id": "MhY0fBHgdDOk"
      },
      "source": [
        ""
      ],
      "execution_count": null,
      "outputs": []
    },
    {
      "cell_type": "code",
      "metadata": {
        "id": "O1hG0Q3t23rS"
      },
      "source": [
        "def create_vit_classifier():\n",
        "    inputs = layers.Input(shape=input_shape)\n",
        "    # Augment data.\n",
        "    augmented = data_augmentation(inputs)\n",
        "    # Create patches.\n",
        "    patches = Patches(patch_size)(augmented)\n",
        "    # Encode patches.\n",
        "    encoded_patches = PatchEncoder(num_patches, projection_dim)(patches)\n",
        "\n",
        "    # Create multiple layers of the Transformer block.\n",
        "    for _ in range(transformer_layers):\n",
        "        # Layer normalization 1.\n",
        "        x1 = layers.LayerNormalization(epsilon=1e-6)(encoded_patches)\n",
        "        # Create a multi-head attention layer.\n",
        "        attention_output = layers.MultiHeadAttention(\n",
        "            num_heads=num_heads, key_dim=projection_dim, dropout=0.1\n",
        "        )(x1, x1)\n",
        "        # Skip connection 1.\n",
        "        x2 = layers.Add()([attention_output, encoded_patches])\n",
        "        # Layer normalization 2.\n",
        "        x3 = layers.LayerNormalization(epsilon=1e-6)(x2)\n",
        "        # MLP.\n",
        "        x3 = mlp(x3, hidden_units=transformer_units, dropout_rate=0.1)\n",
        "        encoded_patches = layers.Add()([x3, x2])\n",
        "        \n",
        "\n",
        "    # Create a [batch_size, projection_dim] tensor.\n",
        "    representation = layers.LayerNormalization(epsilon=1e-6)(encoded_patches)\n",
        "    representation = layers.Flatten()(representation)\n",
        "    representation = layers.Dropout(0.5)(representation)\n",
        "    # Add MLP.\n",
        "    features = mlp(representation, hidden_units=mlp_head_units, dropout_rate=0.3)\n",
        "    # Classify outputs.\n",
        "    logits = layers.Dense(1)(features)\n",
        "    # Create the Keras model.\n",
        "    model = keras.Model(inputs=inputs, outputs=logits)\n",
        "    return model"
      ],
      "execution_count": 17,
      "outputs": []
    },
    {
      "cell_type": "markdown",
      "metadata": {
        "id": "JQ4mL4eFq3Rq"
      },
      "source": [
        "Compile, train, and evaluate the mode"
      ]
    },
    {
      "cell_type": "code",
      "metadata": {
        "id": "5EuSICBWdE6J"
      },
      "source": [
        "tf.keras.backend.clear_session()"
      ],
      "execution_count": 28,
      "outputs": []
    },
    {
      "cell_type": "code",
      "metadata": {
        "colab": {
          "base_uri": "https://localhost:8080/"
        },
        "id": "EZ6IQ2du28mE",
        "outputId": "9c196ea3-d517-454c-f0a6-839b43a6214c"
      },
      "source": [
        "def run_experiment(model):\n",
        "    #optimizer = tfa.optimizers.AdamW(\n",
        "       # learning_rate=learning_rate, weight_decay=weight_decay\n",
        "    #)\n",
        "\n",
        "    model.compile(\n",
        "        #optimizer=optimizer,#keras.optimizers.Adam(lr=0.001),\n",
        "        optimizer=keras.optimizers.Nadam(lr=0.001),\n",
        "        loss= keras.losses.BinaryCrossentropy(from_logits=True),#'binary_crossentropy',\n",
        "        #loss= keras.losses.SparseCategoricalCrossentropy(from_logits=True),\n",
        "        metrics=[\n",
        "            'accuracy',\n",
        "            'mae'\n",
        "        ]\n",
        "    )\n",
        "    reduce_lr = keras.callbacks.ReduceLROnPlateau(monitor='val_loss', factor=0.5, patience=3, min_lr=1.e-6)\n",
        "\n",
        "    checkpoint_filepath = \"/tmp/checkpoint\"\n",
        "    checkpoint_callback = keras.callbacks.ModelCheckpoint(\n",
        "        checkpoint_filepath,\n",
        "        monitor=\"val_accuracy\",\n",
        "        save_best_only=True,\n",
        "        save_weights_only=True,\n",
        "    )\n",
        "\n",
        "    history = model.fit(\n",
        "        x=x_train,\n",
        "        y=y_train,\n",
        "        batch_size=batch_size,\n",
        "        epochs=num_epochs,\n",
        "        validation_split=0.1,\n",
        "        callbacks=[checkpoint_callback,reduce_lr],\n",
        "    )\n",
        "\n",
        "    model.load_weights(checkpoint_filepath)\n",
        "    _, accuracy, top_5_accuracy = model.evaluate(x_test, y_test)\n",
        "    print(f\"Test accuracy: {round(accuracy * 100, 2)}%\")\n",
        "    #print(f\"Test top 5 accuracy: {round(top_5_accuracy * 100, 2)}%\")\n",
        "\n",
        "    return history\n",
        "\n",
        "\n",
        "vit_classifier = create_vit_classifier()\n",
        "history = run_experiment(vit_classifier)"
      ],
      "execution_count": 29,
      "outputs": [
        {
          "output_type": "stream",
          "name": "stderr",
          "text": [
            "/usr/local/lib/python3.7/dist-packages/keras/optimizer_v2/nadam.py:73: UserWarning: The `lr` argument is deprecated, use `learning_rate` instead.\n",
            "  super(Nadam, self).__init__(name, **kwargs)\n"
          ]
        },
        {
          "output_type": "stream",
          "name": "stdout",
          "text": [
            "Epoch 1/20\n",
            "5603/5603 [==============================] - 265s 45ms/step - loss: 0.6318 - accuracy: 0.6124 - mae: 0.7433 - val_loss: 0.5877 - val_accuracy: 0.6900 - val_mae: 0.7609 - lr: 0.0010\n",
            "Epoch 2/20\n",
            "5603/5603 [==============================] - 249s 44ms/step - loss: 0.5884 - accuracy: 0.6790 - mae: 0.8547 - val_loss: 0.5703 - val_accuracy: 0.6996 - val_mae: 0.8395 - lr: 0.0010\n",
            "Epoch 3/20\n",
            "5603/5603 [==============================] - 249s 44ms/step - loss: 0.5800 - accuracy: 0.6886 - mae: 0.8803 - val_loss: 0.5639 - val_accuracy: 0.7050 - val_mae: 0.9529 - lr: 0.0010\n",
            "Epoch 4/20\n",
            "5603/5603 [==============================] - 248s 44ms/step - loss: 0.5746 - accuracy: 0.6925 - mae: 0.8997 - val_loss: 0.5580 - val_accuracy: 0.7023 - val_mae: 0.8693 - lr: 0.0010\n",
            "Epoch 5/20\n",
            "5603/5603 [==============================] - 248s 44ms/step - loss: 0.5715 - accuracy: 0.6962 - mae: 0.9115 - val_loss: 0.5707 - val_accuracy: 0.6877 - val_mae: 1.0802 - lr: 0.0010\n",
            "Epoch 6/20\n",
            "5603/5603 [==============================] - 248s 44ms/step - loss: 0.5687 - accuracy: 0.6973 - mae: 0.9232 - val_loss: 0.5555 - val_accuracy: 0.7163 - val_mae: 0.9230 - lr: 0.0010\n",
            "Epoch 7/20\n",
            "5603/5603 [==============================] - 250s 45ms/step - loss: 0.5666 - accuracy: 0.6987 - mae: 0.9315 - val_loss: 0.5555 - val_accuracy: 0.7247 - val_mae: 0.8575 - lr: 0.0010\n",
            "Epoch 8/20\n",
            "5603/5603 [==============================] - 249s 44ms/step - loss: 0.5652 - accuracy: 0.6995 - mae: 0.9378 - val_loss: 0.5683 - val_accuracy: 0.7106 - val_mae: 0.6885 - lr: 0.0010\n",
            "Epoch 9/20\n",
            "5603/5603 [==============================] - 249s 44ms/step - loss: 0.5631 - accuracy: 0.7001 - mae: 0.9463 - val_loss: 0.5508 - val_accuracy: 0.7014 - val_mae: 0.9617 - lr: 0.0010\n",
            "Epoch 10/20\n",
            "5603/5603 [==============================] - 249s 44ms/step - loss: 0.5621 - accuracy: 0.7024 - mae: 0.9495 - val_loss: 0.5544 - val_accuracy: 0.7210 - val_mae: 0.9136 - lr: 0.0010\n",
            "Epoch 11/20\n",
            "5603/5603 [==============================] - 248s 44ms/step - loss: 0.5606 - accuracy: 0.7026 - mae: 0.9564 - val_loss: 0.5511 - val_accuracy: 0.7245 - val_mae: 0.7919 - lr: 0.0010\n",
            "Epoch 12/20\n",
            "5603/5603 [==============================] - 250s 45ms/step - loss: 0.5598 - accuracy: 0.7038 - mae: 0.9581 - val_loss: 0.5491 - val_accuracy: 0.7146 - val_mae: 0.8553 - lr: 0.0010\n",
            "Epoch 13/20\n",
            "5603/5603 [==============================] - 248s 44ms/step - loss: 0.5582 - accuracy: 0.7055 - mae: 0.9661 - val_loss: 0.5536 - val_accuracy: 0.7220 - val_mae: 0.7969 - lr: 0.0010\n",
            "Epoch 14/20\n",
            "5603/5603 [==============================] - 248s 44ms/step - loss: 0.5576 - accuracy: 0.7051 - mae: 0.9689 - val_loss: 0.5565 - val_accuracy: 0.7278 - val_mae: 0.7319 - lr: 0.0010\n",
            "Epoch 15/20\n",
            "5603/5603 [==============================] - 247s 44ms/step - loss: 0.5569 - accuracy: 0.7057 - mae: 0.9702 - val_loss: 0.5446 - val_accuracy: 0.7164 - val_mae: 0.8946 - lr: 0.0010\n",
            "Epoch 16/20\n",
            "5603/5603 [==============================] - 245s 44ms/step - loss: 0.5564 - accuracy: 0.7055 - mae: 0.9734 - val_loss: 0.5455 - val_accuracy: 0.7205 - val_mae: 0.9974 - lr: 0.0010\n",
            "Epoch 17/20\n",
            "5603/5603 [==============================] - 247s 44ms/step - loss: 0.5556 - accuracy: 0.7061 - mae: 0.9761 - val_loss: 0.5444 - val_accuracy: 0.7210 - val_mae: 0.8832 - lr: 0.0010\n",
            "Epoch 18/20\n",
            "5603/5603 [==============================] - 245s 44ms/step - loss: 0.5552 - accuracy: 0.7073 - mae: 0.9786 - val_loss: 0.5439 - val_accuracy: 0.7078 - val_mae: 0.9292 - lr: 0.0010\n",
            "Epoch 19/20\n",
            "5603/5603 [==============================] - 246s 44ms/step - loss: 0.5542 - accuracy: 0.7068 - mae: 0.9811 - val_loss: 0.5471 - val_accuracy: 0.7018 - val_mae: 0.9185 - lr: 0.0010\n",
            "Epoch 20/20\n",
            "5603/5603 [==============================] - 245s 44ms/step - loss: 0.5536 - accuracy: 0.7089 - mae: 0.9824 - val_loss: 0.5426 - val_accuracy: 0.7193 - val_mae: 0.9243 - lr: 0.0010\n",
            "3113/3113 [==============================] - 38s 12ms/step - loss: 0.5609 - accuracy: 0.7229 - mae: 0.7314\n",
            "Test accuracy: 72.29%\n"
          ]
        }
      ]
    },
    {
      "cell_type": "markdown",
      "metadata": {
        "id": "VRdvYgXfq5vu"
      },
      "source": [
        "Calculate the ROC score "
      ]
    },
    {
      "cell_type": "code",
      "metadata": {
        "colab": {
          "base_uri": "https://localhost:8080/"
        },
        "id": "8NddBcaJ3FLz",
        "outputId": "553eb72f-457f-4466-e8c6-d2375472d282"
      },
      "source": [
        "from sklearn.metrics import roc_curve, auc\n",
        "# Evaluate on test set\n",
        "score = vit_classifier.evaluate(x_test, y_test, verbose=1)\n",
        "print('\\nTest loss / accuracy: %0.4f / %0.4f'%(score[0], score[1]))\n",
        "y_pred = vit_classifier.predict(x_test)\n",
        "fpr, tpr, _ = roc_curve(y_test, y_pred)\n",
        "roc_auc = auc(fpr, tpr)\n",
        "print('Test ROC AUC:', roc_auc)"
      ],
      "execution_count": 30,
      "outputs": [
        {
          "output_type": "stream",
          "name": "stdout",
          "text": [
            "3113/3113 [==============================] - 38s 12ms/step - loss: 0.5609 - accuracy: 0.7229 - mae: 0.7314\n",
            "\n",
            "Test loss / accuracy: 0.5609 / 0.7229\n",
            "Test ROC AUC: 0.7956047026377298\n"
          ]
        }
      ]
    },
    {
      "cell_type": "markdown",
      "metadata": {
        "id": "u1o2vmhDrEtA"
      },
      "source": [
        "ROC Curve Plot "
      ]
    },
    {
      "cell_type": "code",
      "metadata": {
        "colab": {
          "base_uri": "https://localhost:8080/",
          "height": 295
        },
        "id": "gU_8kYfbYmp1",
        "outputId": "6db0aa5d-f53d-44b4-db94-06040696b36e"
      },
      "source": [
        "plt.plot([0, 1], [0, 1], 'k--')\n",
        "#plt.legend(loc=2, prop={'size': 15})\n",
        "plt.plot(fpr, tpr, label='Model 1 (ROC-AUC = {:.3f})'.format(roc_auc))\n",
        "plt.xlabel('False positive rate')\n",
        "plt.ylabel('True positive rate')\n",
        "plt.title('ROC curve')\n",
        "plt.legend(loc='best')\n",
        "plt.show()"
      ],
      "execution_count": 95,
      "outputs": [
        {
          "output_type": "display_data",
          "data": {
            "image/png": "[encoded data removed]",
            "text/plain": [
              "<Figure size 432x288 with 1 Axes>"
            ]
          },
          "metadata": {
            "needs_background": "light"
          }
        }
      ]
    },
    {
      "cell_type": "code",
      "metadata": {
        "id": "-AcAvMO74Xfs",
        "outputId": "40635ee1-ce62-4c74-df36-bc9127014b4f",
        "colab": {
          "base_uri": "https://localhost:8080/",
          "height": 296
        }
      },
      "source": [
        "plt.plot(history.history[\"loss\"], label=\"train_loss\")\n",
        "plt.plot(history.history[\"val_loss\"], label=\"val_loss\")\n",
        "plt.xlabel(\"Epochs\")\n",
        "plt.ylabel(\"Loss\")\n",
        "plt.title(\"Train and Validation Losses Over Epochs\", fontsize=14)\n",
        "plt.legend()\n",
        "plt.grid()\n",
        "plt.show()\n"
      ],
      "execution_count": 96,
      "outputs": [
        {
          "output_type": "display_data",
          "data": {
            "image/png": "[encoded data removed]",
            "text/plain": [
              "<Figure size 432x288 with 1 Axes>"
            ]
          },
          "metadata": {
            "needs_background": "light"
          }
        }
      ]
    },
    {
      "cell_type": "markdown",
      "metadata": {
        "id": "c_paEV58TRGP"
      },
      "source": [
        "#Compact Convulational Transformer"
      ]
    },
    {
      "cell_type": "code",
      "metadata": {
        "id": "0P0JX8OQa0uG",
        "outputId": "2856c9bb-e89e-425a-8320-22403e2f668c",
        "colab": {
          "base_uri": "https://localhost:8080/"
        }
      },
      "source": [
        "num_classes = 10\n",
        "input_shape = (32, 32, 3)\n",
        "\n",
        "(x_train, y_train), (x_test, y_test) = keras.datasets.cifar10.load_data()\n",
        "\n",
        "y_train = keras.utils.to_categorical(y_train, num_classes)\n",
        "y_test = keras.utils.to_categorical(y_test, num_classes)\n",
        "\n",
        "print(f\"x_train shape: {x_train.shape} - y_train shape: {y_train.shape}\")\n",
        "print(f\"x_test shape: {x_test.shape} - y_test shape: {y_test.shape}\")\n"
      ],
      "execution_count": 54,
      "outputs": [
        {
          "output_type": "stream",
          "name": "stdout",
          "text": [
            "Downloading data from https://www.cs.toronto.edu/~kriz/cifar-10-python.tar.gz\n",
            "170500096/170498071 [==============================] - 11s 0us/step\n",
            "170508288/170498071 [==============================] - 11s 0us/step\n",
            "x_train shape: (50000, 32, 32, 3) - y_train shape: (50000, 10)\n",
            "x_test shape: (10000, 32, 32, 3) - y_test shape: (10000, 10)\n"
          ]
        }
      ]
    },
    {
      "cell_type": "code",
      "metadata": {
        "id": "oPlXL_ofbbMp"
      },
      "source": [
        "positional_emb = True\n",
        "conv_layers = 2\n",
        "projection_dim = 128\n",
        "\n",
        "num_heads = 2\n",
        "transformer_units = [\n",
        "    projection_dim,\n",
        "    projection_dim,\n",
        "]\n",
        "transformer_layers = 2\n",
        "stochastic_depth_rate = 0.1\n",
        "\n",
        "learning_rate = 0.001\n",
        "weight_decay = 0.0001\n",
        "batch_size = 128\n",
        "num_epochs = 20\n",
        "image_size = 32\n"
      ],
      "execution_count": 77,
      "outputs": []
    },
    {
      "cell_type": "code",
      "metadata": {
        "id": "a09eWuYxRsoq"
      },
      "source": [
        "class CCTTokenizer(layers.Layer):\n",
        "    def __init__(\n",
        "        self,\n",
        "        kernel_size=3,\n",
        "        stride=1,\n",
        "        padding=1,\n",
        "        pooling_kernel_size=3,\n",
        "        pooling_stride=2,\n",
        "        num_conv_layers=conv_layers,\n",
        "        num_output_channels=[64, 128],\n",
        "        positional_emb=positional_emb,\n",
        "        **kwargs,\n",
        "    ):\n",
        "        super(CCTTokenizer, self).__init__(**kwargs)\n",
        "\n",
        "        # This is our tokenizer.\n",
        "        self.conv_model = keras.Sequential()\n",
        "        for i in range(num_conv_layers):\n",
        "            self.conv_model.add(\n",
        "                layers.Conv2D(\n",
        "                    num_output_channels[i],\n",
        "                    kernel_size,\n",
        "                    stride,\n",
        "                    padding=\"valid\",\n",
        "                    use_bias=False,\n",
        "                    activation=\"relu\",\n",
        "                    kernel_initializer=\"he_normal\",\n",
        "                )\n",
        "            )\n",
        "            self.conv_model.add(layers.ZeroPadding2D(padding))\n",
        "            self.conv_model.add(\n",
        "                layers.MaxPool2D(pooling_kernel_size, pooling_stride, \"same\")\n",
        "            )\n",
        "\n",
        "        self.positional_emb = positional_emb\n",
        "\n",
        "    def call(self, images):\n",
        "        outputs = self.conv_model(images)\n",
        "        # After passing the images through our mini-network the spatial dimensions\n",
        "        # are flattened to form sequences.\n",
        "        reshaped = tf.reshape(\n",
        "            outputs,\n",
        "            (-1, tf.shape(outputs)[1] * tf.shape(outputs)[2], tf.shape(outputs)[-1]),\n",
        "        )\n",
        "        return reshaped\n",
        "\n",
        "    def positional_embedding(self, image_size):\n",
        "        # Positional embeddings are optional in CCT. Here, we calculate\n",
        "        # the number of sequences and initialize an `Embedding` layer to\n",
        "        # compute the positional embeddings later.\n",
        "        if self.positional_emb:\n",
        "            dummy_inputs = tf.ones((1, image_size, image_size, 1))\n",
        "            dummy_outputs = self.call(dummy_inputs)\n",
        "            sequence_length = tf.shape(dummy_outputs)[1]\n",
        "            projection_dim = tf.shape(dummy_outputs)[-1]\n",
        "\n",
        "            embed_layer = layers.Embedding(\n",
        "                input_dim=sequence_length, output_dim=projection_dim\n",
        "            )\n",
        "            return embed_layer, sequence_length\n",
        "        else:\n",
        "            return None\n"
      ],
      "execution_count": 78,
      "outputs": []
    },
    {
      "cell_type": "code",
      "metadata": {
        "id": "zuxSR5UuRyWj"
      },
      "source": [
        "# Referred from: github.com:rwightman/pytorch-image-models.\n",
        "class StochasticDepth(layers.Layer):\n",
        "    def __init__(self, drop_prop, **kwargs):\n",
        "        super(StochasticDepth, self).__init__(**kwargs)\n",
        "        self.drop_prob = drop_prop\n",
        "\n",
        "    def call(self, x, training=None):\n",
        "        if training:\n",
        "            keep_prob = 1 - self.drop_prob\n",
        "            shape = (tf.shape(x)[0],) + (1,) * (len(tf.shape(x)) - 1)\n",
        "            random_tensor = keep_prob + tf.random.uniform(shape, 0, 1)\n",
        "            random_tensor = tf.floor(random_tensor)\n",
        "            return (x / keep_prob) * random_tensor\n",
        "        return x\n"
      ],
      "execution_count": 79,
      "outputs": []
    },
    {
      "cell_type": "code",
      "metadata": {
        "id": "gjrj5t0QR5HO"
      },
      "source": [
        ""
      ],
      "execution_count": null,
      "outputs": []
    },
    {
      "cell_type": "code",
      "metadata": {
        "id": "5QkEm-QYR5ED"
      },
      "source": [
        "# MLP for the Transformer encoder\n",
        "def mlp(x, hidden_units, dropout_rate):\n",
        "    for units in hidden_units:\n",
        "        x = layers.Dense(units, activation=tf.nn.gelu)(x)\n",
        "        x = layers.Dropout(dropout_rate)(x)\n",
        "    return x\n"
      ],
      "execution_count": 80,
      "outputs": []
    },
    {
      "cell_type": "code",
      "metadata": {
        "id": "TEG2Z-6kSDJC"
      },
      "source": [
        "# Data agumentation\n",
        "# Note the rescaling layer. These layers have pre-defined inference behavior.\n",
        "data_augmentation = keras.Sequential(\n",
        "    [   layers.Normalization(),\n",
        "        #layers.RandomCrop(image_size, image_size),\n",
        "        #layers.RandomFlip(\"horizontal\"),\n",
        "    ],\n",
        "    name=\"data_augmentation\",\n",
        ")\n"
      ],
      "execution_count": 50,
      "outputs": []
    },
    {
      "cell_type": "code",
      "metadata": {
        "id": "qhT91pviSHNA"
      },
      "source": [
        "# Final CCT model\n",
        "def create_cct_model(\n",
        "    image_size=image_size,\n",
        "    input_shape=input_shape,\n",
        "    num_heads=num_heads,\n",
        "    projection_dim=projection_dim,\n",
        "    transformer_units=transformer_units,\n",
        "):\n",
        "\n",
        "    inputs = layers.Input(input_shape)\n",
        "\n",
        "    # Augment data.\n",
        "    augmented = data_augmentation(inputs)\n",
        "\n",
        "    # Encode patches.\n",
        "    cct_tokenizer = CCTTokenizer()\n",
        "    encoded_patches = cct_tokenizer(augmented)\n",
        "\n",
        "    # Apply positional embedding.\n",
        "    if positional_emb:\n",
        "        pos_embed, seq_length = cct_tokenizer.positional_embedding(image_size)\n",
        "        positions = tf.range(start=0, limit=seq_length, delta=1)\n",
        "        position_embeddings = pos_embed(positions)\n",
        "        encoded_patches += position_embeddings\n",
        "\n",
        "    # Calculate Stochastic Depth probabilities.\n",
        "    dpr = [x for x in np.linspace(0, stochastic_depth_rate, transformer_layers)]\n",
        "\n",
        "    # Create multiple layers of the Transformer block.\n",
        "    for i in range(transformer_layers):\n",
        "        # Layer normalization 1.\n",
        "        x1 = layers.LayerNormalization(epsilon=1e-5)(encoded_patches)\n",
        "\n",
        "        # Create a multi-head attention layer.\n",
        "        attention_output = layers.MultiHeadAttention(\n",
        "            num_heads=num_heads, key_dim=projection_dim, dropout=0.1\n",
        "        )(x1, x1)\n",
        "\n",
        "        # Skip connection 1.\n",
        "        attention_output = StochasticDepth(dpr[i])(attention_output)\n",
        "        x2 = layers.Add()([attention_output, encoded_patches])\n",
        "\n",
        "        # Layer normalization 2.\n",
        "        x3 = layers.LayerNormalization(epsilon=1e-5)(x2)\n",
        "\n",
        "        # MLP.\n",
        "        x3 = mlp(x3, hidden_units=transformer_units, dropout_rate=0.1)\n",
        "\n",
        "        # Skip connection 2.\n",
        "        x3 = StochasticDepth(dpr[i])(x3)\n",
        "        encoded_patches = layers.Add()([x3, x2])\n",
        "\n",
        "    # Apply sequence pooling.\n",
        "    representation = layers.LayerNormalization(epsilon=1e-5)(encoded_patches)\n",
        "    attention_weights = tf.nn.softmax(layers.Dense(1)(representation), axis=1)\n",
        "    weighted_representation = tf.matmul(\n",
        "        attention_weights, representation, transpose_a=True\n",
        "    )\n",
        "    weighted_representation = tf.squeeze(weighted_representation, -2)\n",
        "\n",
        "    # Classify outputs.\n",
        "    logits = layers.Dense(num_classes)(weighted_representation)\n",
        "    # Create the Keras model.\n",
        "    model = keras.Model(inputs=inputs, outputs=logits)\n",
        "    return model\n"
      ],
      "execution_count": 81,
      "outputs": []
    },
    {
      "cell_type": "code",
      "metadata": {
        "id": "NPJQy0gOSQgb",
        "outputId": "767f5190-5d7d-4bef-cc1f-1b367a571b97",
        "colab": {
          "base_uri": "https://localhost:8080/"
        }
      },
      "source": [
        "# Model training and evaluation\n",
        "def run_experiment(model):\n",
        "    optimizer = tfa.optimizers.AdamW(learning_rate=0.001, weight_decay=0.0001)\n",
        "\n",
        "    model.compile(\n",
        "        optimizer=optimizer,\n",
        "        loss=keras.losses.BinaryCrossentropy(from_logits=True),\n",
        "        metrics=[\n",
        "            \"accuracy\"\n",
        "            #keras.metrics.TopKCategoricalAccuracy(5, name=\"top-5-accuracy\"),\n",
        "        ],\n",
        "    )\n",
        "\n",
        "    checkpoint_filepath = \"/tmp/checkpoint\"\n",
        "    checkpoint_callback = keras.callbacks.ModelCheckpoint(\n",
        "        checkpoint_filepath,\n",
        "        monitor=\"val_accuracy\",\n",
        "        save_best_only=True,\n",
        "        save_weights_only=True,\n",
        "    )\n",
        "\n",
        "    history = model.fit(\n",
        "        x=x_train,\n",
        "        y=y_train,\n",
        "        batch_size=batch_size,\n",
        "        epochs=num_epochs,\n",
        "        validation_split=0.2,\n",
        "        callbacks=[checkpoint_callback],\n",
        "    )\n",
        "\n",
        "    model.load_weights(checkpoint_filepath)\n",
        "    _, accuracy = model.evaluate(x_test, y_test)\n",
        "    print(f\"Test accuracy: {round(accuracy * 100, 2)}%\")\n",
        "    #print(f\"Test top 5 accuracy: {round(top_5_accuracy * 100, 2)}%\")\n",
        "\n",
        "    return history\n",
        "\n",
        "\n",
        "cct_model = create_cct_model()\n",
        "history = run_experiment(cct_model)\n"
      ],
      "execution_count": 83,
      "outputs": [
        {
          "output_type": "stream",
          "name": "stdout",
          "text": [
            "Epoch 1/20\n",
            "2490/2490 [==============================] - 63s 24ms/step - loss: 0.6129 - accuracy: 0.6418 - val_loss: 0.5754 - val_accuracy: 0.6846\n",
            "Epoch 2/20\n",
            "2490/2490 [==============================] - 60s 24ms/step - loss: 0.5818 - accuracy: 0.6847 - val_loss: 0.5798 - val_accuracy: 0.6798\n",
            "Epoch 3/20\n",
            "2490/2490 [==============================] - 60s 24ms/step - loss: 0.5730 - accuracy: 0.6936 - val_loss: 0.5726 - val_accuracy: 0.6924\n",
            "Epoch 4/20\n",
            "2490/2490 [==============================] - 60s 24ms/step - loss: 0.5688 - accuracy: 0.6971 - val_loss: 0.5677 - val_accuracy: 0.7130\n",
            "Epoch 5/20\n",
            "2490/2490 [==============================] - 60s 24ms/step - loss: 0.5663 - accuracy: 0.7003 - val_loss: 0.5601 - val_accuracy: 0.7116\n",
            "Epoch 6/20\n",
            "2490/2490 [==============================] - 60s 24ms/step - loss: 0.5633 - accuracy: 0.7022 - val_loss: 0.5554 - val_accuracy: 0.6877\n",
            "Epoch 7/20\n",
            "2490/2490 [==============================] - 60s 24ms/step - loss: 0.5630 - accuracy: 0.7028 - val_loss: 0.5482 - val_accuracy: 0.7224\n",
            "Epoch 8/20\n",
            "2490/2490 [==============================] - 60s 24ms/step - loss: 0.5628 - accuracy: 0.7021 - val_loss: 0.5586 - val_accuracy: 0.7160\n",
            "Epoch 9/20\n",
            "2490/2490 [==============================] - 60s 24ms/step - loss: 0.5624 - accuracy: 0.7030 - val_loss: 0.5565 - val_accuracy: 0.7023\n",
            "Epoch 10/20\n",
            "2490/2490 [==============================] - 60s 24ms/step - loss: 0.5614 - accuracy: 0.7037 - val_loss: 0.5571 - val_accuracy: 0.7166\n",
            "Epoch 11/20\n",
            "2490/2490 [==============================] - 60s 24ms/step - loss: 0.5609 - accuracy: 0.7041 - val_loss: 0.5550 - val_accuracy: 0.7139\n",
            "Epoch 12/20\n",
            "2490/2490 [==============================] - 60s 24ms/step - loss: 0.5609 - accuracy: 0.7031 - val_loss: 0.5542 - val_accuracy: 0.7139\n",
            "Epoch 13/20\n",
            "2490/2490 [==============================] - 60s 24ms/step - loss: 0.5602 - accuracy: 0.7045 - val_loss: 0.5497 - val_accuracy: 0.7158\n",
            "Epoch 14/20\n",
            "2490/2490 [==============================] - 60s 24ms/step - loss: 0.5607 - accuracy: 0.7041 - val_loss: 0.5630 - val_accuracy: 0.7123\n",
            "Epoch 15/20\n",
            "2490/2490 [==============================] - 60s 24ms/step - loss: 0.5603 - accuracy: 0.7039 - val_loss: 0.5526 - val_accuracy: 0.7050\n",
            "Epoch 16/20\n",
            "2490/2490 [==============================] - 60s 24ms/step - loss: 0.5602 - accuracy: 0.7039 - val_loss: 0.5586 - val_accuracy: 0.7248\n",
            "Epoch 17/20\n",
            "2490/2490 [==============================] - 60s 24ms/step - loss: 0.5593 - accuracy: 0.7047 - val_loss: 0.5573 - val_accuracy: 0.6984\n",
            "Epoch 18/20\n",
            "2490/2490 [==============================] - 60s 24ms/step - loss: 0.5598 - accuracy: 0.7050 - val_loss: 0.5637 - val_accuracy: 0.6898\n",
            "Epoch 19/20\n",
            "2490/2490 [==============================] - 60s 24ms/step - loss: 0.5599 - accuracy: 0.7046 - val_loss: 0.5479 - val_accuracy: 0.7243\n",
            "Epoch 20/20\n",
            "2490/2490 [==============================] - 60s 24ms/step - loss: 0.5595 - accuracy: 0.7050 - val_loss: 0.5572 - val_accuracy: 0.7082\n",
            "3113/3113 [==============================] - 17s 6ms/step - loss: 0.5635 - accuracy: 0.7206\n",
            "Test accuracy: 72.06%\n"
          ]
        }
      ]
    },
    {
      "cell_type": "code",
      "metadata": {
        "id": "0VMU9kA3uE00",
        "outputId": "25d77da3-0996-40cc-9b4f-604417caab67",
        "colab": {
          "base_uri": "https://localhost:8080/",
          "height": 296
        }
      },
      "source": [
        "plt.plot(history.history[\"loss\"], label=\"train_loss\")\n",
        "plt.plot(history.history[\"val_loss\"], label=\"val_loss\")\n",
        "plt.xlabel(\"Epochs\")\n",
        "plt.ylabel(\"Loss\")\n",
        "plt.title(\"Train and Validation Losses Over Epochs\", fontsize=14)\n",
        "plt.legend()\n",
        "plt.grid()\n",
        "plt.show()\n"
      ],
      "execution_count": 86,
      "outputs": [
        {
          "output_type": "display_data",
          "data": {
            "image/png": "[encoded data removed]",
            "text/plain": [
              "<Figure size 432x288 with 1 Axes>"
            ]
          },
          "metadata": {
            "needs_background": "light"
          }
        }
      ]
    },
    {
      "cell_type": "code",
      "metadata": {
        "id": "SY5S0EUVdKX-",
        "outputId": "c34cc234-7569-44bf-bcfb-e612db35af85",
        "colab": {
          "base_uri": "https://localhost:8080/"
        }
      },
      "source": [
        "from sklearn.metrics import roc_curve, auc\n",
        "# Evaluate on test set\n",
        "score = cct_model.evaluate(x_test, y_test, verbose=1)\n",
        "print('\\nTest loss / accuracy: %0.4f / %0.4f'%(score[0], score[1]))\n",
        "y_pred = cct_model.predict(x_test)\n",
        "fpr, tpr, _ = roc_curve(y_test, y_pred)\n",
        "roc_auc = auc(fpr, tpr)\n",
        "print('Test ROC AUC:', roc_auc)"
      ],
      "execution_count": 85,
      "outputs": [
        {
          "output_type": "stream",
          "name": "stdout",
          "text": [
            "3113/3113 [==============================] - 17s 6ms/step - loss: 0.5635 - accuracy: 0.7206\n",
            "\n",
            "Test loss / accuracy: 0.5635 / 0.7206\n",
            "Test ROC AUC: 0.7885367682039759\n"
          ]
        }
      ]
    },
    {
      "cell_type": "markdown",
      "metadata": {
        "id": "fOBEkTaHX1MW"
      },
      "source": [
        "# Your turn, All the Best!"
      ]
    }
  ]
}