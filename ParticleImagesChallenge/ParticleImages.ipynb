{
  "nbformat": 4,
  "nbformat_minor": 0,
  "metadata": {
    "colab": {
      "name": "ParticleImages.ipynb",
      "provenance": [],
      "collapsed_sections": [],
      "toc_visible": true,
      "machine_shape": "hm",
      "include_colab_link": true
    },
    "kernelspec": {
      "name": "python3",
      "display_name": "Python 3"
    },
    "accelerator": "GPU"
  },
  "cells": [
    {
      "cell_type": "markdown",
      "metadata": {
        "id": "view-in-github",
        "colab_type": "text"
      },
      "source": [
        "<a href=\"https://colab.research.google.com/github/skc46/ML_hackathon_2021/blob/main/ParticleImagesChallenge/ParticleImages.ipynb\" target=\"_parent\"><img src=\"https://colab.research.google.com/assets/colab-badge.svg\" alt=\"Open In Colab\"/></a>"
      ]
    },
    {
      "cell_type": "markdown",
      "metadata": {
        "id": "P3DtjEbf8M4I"
      },
      "source": [
        "# Hackathon - Particle Images\n",
        "## Problem Statement \n",
        "*   One of the important aspects of searches for new physics at the Large Hadron Collider (LHC) involves the classification of various High-Energy Particles in collision events\n",
        "*   The goal of this challenge is to develop a model which classifies electron and photon electromagnetic showers as accurately as possible based on the detector images provided in the dataset below (one pixel = one channel of the detector)\n",
        "*   The preferred metric for evaluating the model is ROC curve (Receiver Operating Characteristic curve) and the AUC (Area Under the ROC Curve) score.\n",
        "*   Although we are using Keras Framework in this sample notebook, you are free to choose Machine Learning / Deep Learning Framework of your choice. \n",
        "\n"
      ]
    },
    {
      "cell_type": "markdown",
      "metadata": {
        "id": "g0b6SRpWl2Xh"
      },
      "source": [
        "## Create the appropriate project folder "
      ]
    },
    {
      "cell_type": "code",
      "metadata": {
        "id": "OYRULwKaw_A6"
      },
      "source": [
        "mkdir Particle_Images"
      ],
      "execution_count": 1,
      "outputs": []
    },
    {
      "cell_type": "code",
      "metadata": {
        "id": "at-4-Xub8DYW",
        "colab": {
          "base_uri": "https://localhost:8080/"
        },
        "outputId": "ae81fa09-a999-4d7a-f315-10e528030a48"
      },
      "source": [
        "cd Particle_Images"
      ],
      "execution_count": 2,
      "outputs": [
        {
          "output_type": "stream",
          "name": "stdout",
          "text": [
            "/content/Particle_Images\n"
          ]
        }
      ]
    },
    {
      "cell_type": "code",
      "metadata": {
        "id": "BQGKM10j2CiQ"
      },
      "source": [
        "mkdir data/"
      ],
      "execution_count": 3,
      "outputs": []
    },
    {
      "cell_type": "markdown",
      "metadata": {
        "id": "PEtRyfNv9XVn"
      },
      "source": [
        "# Download the Dataset"
      ]
    },
    {
      "cell_type": "code",
      "metadata": {
        "id": "rcK1wY4Qt_7Y",
        "colab": {
          "base_uri": "https://localhost:8080/"
        },
        "outputId": "2f0c029d-5af4-45bb-ea8b-647509fb6f4b"
      },
      "source": [
        "#!/bin/bash\n",
        "!wget https://cernbox.cern.ch/index.php/s/sHjzCNFTFxutYCj/download -O data/SingleElectronPt50_IMGCROPS_n249k_RHv1.hdf5\n",
        "!wget https://cernbox.cern.ch/index.php/s/69nGEZjOy3xGxBq/download -O data/SinglePhotonPt50_IMGCROPS_n249k_RHv1.hdf5"
      ],
      "execution_count": 4,
      "outputs": [
        {
          "output_type": "stream",
          "name": "stdout",
          "text": [
            "--2021-11-30 15:41:42--  https://cernbox.cern.ch/index.php/s/sHjzCNFTFxutYCj/download\n",
            "Resolving cernbox.cern.ch (cernbox.cern.ch)... 128.142.53.28, 137.138.120.151, 188.184.97.72, ...\n",
            "Connecting to cernbox.cern.ch (cernbox.cern.ch)|128.142.53.28|:443... connected.\n",
            "HTTP request sent, awaiting response... 200 OK\n",
            "Length: 87010508 (83M) [application/octet-stream]\n",
            "Saving to: ‘data/SingleElectronPt50_IMGCROPS_n249k_RHv1.hdf5’\n",
            "\n",
            "data/SingleElectron 100%[===================>]  82.98M  18.2MB/s    in 5.5s    \n",
            "\n",
            "Last-modified header invalid -- time-stamp ignored.\n",
            "2021-11-30 15:41:50 (15.2 MB/s) - ‘data/SingleElectronPt50_IMGCROPS_n249k_RHv1.hdf5’ saved [87010508/87010508]\n",
            "\n",
            "--2021-11-30 15:41:50--  https://cernbox.cern.ch/index.php/s/69nGEZjOy3xGxBq/download\n",
            "Resolving cernbox.cern.ch (cernbox.cern.ch)... 137.138.120.151, 128.142.53.35, 128.142.53.28, ...\n",
            "Connecting to cernbox.cern.ch (cernbox.cern.ch)|137.138.120.151|:443... connected.\n",
            "HTTP request sent, awaiting response... 200 OK\n",
            "Length: 79876391 (76M) [application/octet-stream]\n",
            "Saving to: ‘data/SinglePhotonPt50_IMGCROPS_n249k_RHv1.hdf5’\n",
            "\n",
            "data/SinglePhotonPt 100%[===================>]  76.18M  18.7MB/s    in 5.0s    \n",
            "\n",
            "Last-modified header invalid -- time-stamp ignored.\n",
            "2021-11-30 15:41:59 (15.1 MB/s) - ‘data/SinglePhotonPt50_IMGCROPS_n249k_RHv1.hdf5’ saved [79876391/79876391]\n",
            "\n"
          ]
        }
      ]
    },
    {
      "cell_type": "code",
      "metadata": {
        "id": "KpQvUlOyhiwS",
        "colab": {
          "base_uri": "https://localhost:8080/"
        },
        "outputId": "32d4087a-fa97-4c95-96b0-67c2fbf20950"
      },
      "source": [
        "pip install scikeras"
      ],
      "execution_count": 5,
      "outputs": [
        {
          "output_type": "stream",
          "name": "stdout",
          "text": [
            "Collecting scikeras\n",
            "  Downloading scikeras-0.6.0-py3-none-any.whl (27 kB)\n",
            "Requirement already satisfied: scikit-learn>=1.0.0 in /usr/local/lib/python3.7/dist-packages (from scikeras) (1.0.1)\n",
            "Collecting importlib-metadata<4,>=3\n",
            "  Downloading importlib_metadata-3.10.1-py3-none-any.whl (14 kB)\n",
            "Requirement already satisfied: packaging<22.0,>=0.21 in /usr/local/lib/python3.7/dist-packages (from scikeras) (21.3)\n",
            "Requirement already satisfied: zipp>=0.5 in /usr/local/lib/python3.7/dist-packages (from importlib-metadata<4,>=3->scikeras) (3.6.0)\n",
            "Requirement already satisfied: typing-extensions>=3.6.4 in /usr/local/lib/python3.7/dist-packages (from importlib-metadata<4,>=3->scikeras) (3.10.0.2)\n",
            "Requirement already satisfied: pyparsing!=3.0.5,>=2.0.2 in /usr/local/lib/python3.7/dist-packages (from packaging<22.0,>=0.21->scikeras) (3.0.6)\n",
            "Requirement already satisfied: numpy>=1.14.6 in /usr/local/lib/python3.7/dist-packages (from scikit-learn>=1.0.0->scikeras) (1.19.5)\n",
            "Requirement already satisfied: threadpoolctl>=2.0.0 in /usr/local/lib/python3.7/dist-packages (from scikit-learn>=1.0.0->scikeras) (3.0.0)\n",
            "Requirement already satisfied: joblib>=0.11 in /usr/local/lib/python3.7/dist-packages (from scikit-learn>=1.0.0->scikeras) (1.1.0)\n",
            "Requirement already satisfied: scipy>=1.1.0 in /usr/local/lib/python3.7/dist-packages (from scikit-learn>=1.0.0->scikeras) (1.4.1)\n",
            "Installing collected packages: importlib-metadata, scikeras\n",
            "  Attempting uninstall: importlib-metadata\n",
            "    Found existing installation: importlib-metadata 4.8.2\n",
            "    Uninstalling importlib-metadata-4.8.2:\n",
            "      Successfully uninstalled importlib-metadata-4.8.2\n",
            "\u001b[31mERROR: pip's dependency resolver does not currently take into account all the packages that are installed. This behaviour is the source of the following dependency conflicts.\n",
            "markdown 3.3.6 requires importlib-metadata>=4.4; python_version < \"3.10\", but you have importlib-metadata 3.10.1 which is incompatible.\u001b[0m\n",
            "Successfully installed importlib-metadata-3.10.1 scikeras-0.6.0\n"
          ]
        }
      ]
    },
    {
      "cell_type": "markdown",
      "metadata": {
        "id": "BepRE7pn8Du7"
      },
      "source": [
        "# Import modules"
      ]
    },
    {
      "cell_type": "code",
      "metadata": {
        "id": "ZnLzC5paz0hb"
      },
      "source": [
        "import numpy as np\n",
        "np.random.seed(1337)  # for reproducibility\n",
        "import h5py\n",
        "import tensorflow\n",
        "from tensorflow.keras.models import Sequential, Model\n",
        "from tensorflow.keras.optimizers import Adam, Nadam, SGD, Adamax\n",
        "from tensorflow.keras.initializers import TruncatedNormal, glorot_normal\n",
        "from tensorflow.keras.layers import Input, Dense, Dropout, Flatten, Conv2D, MaxPooling2D, BatchNormalization, Activation, GlobalAvgPool2D\n",
        "from tensorflow.keras.callbacks import ReduceLROnPlateau, LearningRateScheduler\n",
        "from tensorflow.keras.preprocessing.image import ImageDataGenerator\n",
        "from sklearn.model_selection import RandomizedSearchCV, GridSearchCV\n",
        "\n",
        "from sklearn.metrics import roc_curve, auc, accuracy_score\n",
        "\n",
        "import matplotlib.pyplot as plt"
      ],
      "execution_count": 6,
      "outputs": []
    },
    {
      "cell_type": "markdown",
      "metadata": {
        "id": "Az_MoJwZ8K6l"
      },
      "source": [
        "# Keras Model Parameters"
      ]
    },
    {
      "cell_type": "code",
      "metadata": {
        "id": "ZzF8AHl_4yUA"
      },
      "source": [
        "#lr_init     = 1.e-3    # Initial learning rate  \n",
        "batch_size  = 32     # Training batch size\n",
        "train_size  = 180000     # Training size\n",
        "valid_size  = 10000     # Validation size\n",
        "test_size   = 20000     # Test size\n",
        "epochs      = 25       # Number of epochs\n",
        "doGPU       = True    # Use GPU"
      ],
      "execution_count": 7,
      "outputs": []
    },
    {
      "cell_type": "markdown",
      "metadata": {
        "id": "_jX_l-WmplJx"
      },
      "source": [
        "## It is recommended to use GPU for training and inference if possible."
      ]
    },
    {
      "cell_type": "code",
      "metadata": {
        "id": "PVq1XGr640nJ"
      },
      "source": [
        "if doGPU:\n",
        "    import tensorflow.compat.v1 as tf\n",
        "    from tensorflow.compat.v1.keras.backend import set_session\n",
        "    config = tf.ConfigProto()\n",
        "    config.gpu_options.allow_growth=True\n",
        "    set_session(tf.Session(config=config))"
      ],
      "execution_count": 8,
      "outputs": []
    },
    {
      "cell_type": "markdown",
      "metadata": {
        "id": "xwc56kXJ8TLo"
      },
      "source": [
        "# Load Image Data\n",
        "### Two classes of particles: electrons and photons\n",
        "### 32x32 matrices (two channels - hit energy and time) for the two classes of particles electrons and photons impinging on a calorimeter (one calorimetric cell = one pixel).\n",
        "#### Please note that although timing channel is provided, it may not necessarily help the performance of the model."
      ]
    },
    {
      "cell_type": "code",
      "metadata": {
        "id": "kr4QIMlt424u"
      },
      "source": [
        "img_rows, img_cols, nb_channels = 32, 32, 2        \n",
        "input_dir = 'data'\n",
        "decays = ['SinglePhotonPt50_IMGCROPS_n249k_RHv1', 'SingleElectronPt50_IMGCROPS_n249k_RHv1']\n",
        "\n",
        "def load_data(decays, start, stop):\n",
        "    global input_dir\n",
        "    dsets = [h5py.File('%s/%s.hdf5'%(input_dir,decay)) for decay in decays]\n",
        "    X = np.concatenate([dset['/X'][start:stop] for dset in dsets])\n",
        "    y = np.concatenate([dset['/y'][start:stop] for dset in dsets])\n",
        "    assert len(X) == len(y)\n",
        "    return X, y"
      ],
      "execution_count": 9,
      "outputs": []
    },
    {
      "cell_type": "markdown",
      "metadata": {
        "id": "-JpHCOf38fDL"
      },
      "source": [
        "# Configure Training / Validation / Test Sets"
      ]
    },
    {
      "cell_type": "code",
      "metadata": {
        "id": "-RTXS58x46Fq"
      },
      "source": [
        "# Set range of training set\n",
        "train_start, train_stop = 0, train_size\n",
        "assert train_stop > train_start\n",
        "assert (len(decays)*train_size) % batch_size == 0\n",
        "X_train, y_train = load_data(decays,train_start,train_stop)\n",
        "\n",
        "# Set range of validation set\n",
        "valid_start, valid_stop = train_size, train_size+valid_size\n",
        "assert valid_stop  >  valid_start\n",
        "assert valid_start >= train_stop\n",
        "X_valid, y_valid = load_data(decays,valid_start,valid_stop)\n",
        "\n",
        "# Set range of test set\n",
        "test_start, test_stop = (train_size+valid_size), (train_size+valid_size)+test_size\n",
        "assert test_stop  >  test_start\n",
        "assert test_start >= valid_stop\n",
        "X_test, y_test = load_data(decays,test_start,test_stop)\n",
        "\n",
        "samples_requested = len(decays) * (train_size + valid_size + test_size)\n",
        "samples_available = len(y_train) + len(y_valid) + len(y_test)\n",
        "assert samples_requested == samples_available"
      ],
      "execution_count": 10,
      "outputs": []
    },
    {
      "cell_type": "markdown",
      "metadata": {
        "id": "UTFIMRnL8w41"
      },
      "source": [
        "# Plot sample of training images\n",
        "### Please note that although timing channel is provided, it may not necessarily help the performance of the model."
      ]
    },
    {
      "cell_type": "code",
      "metadata": {
        "id": "e_IDs16U52-C",
        "colab": {
          "base_uri": "https://localhost:8080/",
          "height": 181
        },
        "outputId": "fadf6fdf-ad09-45ce-dfab-316cd46fb5e3"
      },
      "source": [
        "plt.figure(1)\n",
        "\n",
        "plt.subplot(221)\n",
        "plt.imshow(X_train[1,:,:,0])\n",
        "plt.title(\"Channel 0: Energy\")  # Energy\n",
        "plt.grid(True)\n",
        "\n",
        "plt.subplot(222)\n",
        "plt.imshow(X_train[1,:,:,1])\n",
        "plt.title(\"Channel 1: Time\")  # Time\n",
        "plt.grid(True)\n",
        "\n",
        "\n",
        "plt.show()\n",
        "print(np.max(X_train[111,:,:,0]))"
      ],
      "execution_count": null,
      "outputs": [
        {
          "output_type": "display_data",
          "data": {
            "image/png": "[encoded data removed]",
            "text/plain": [
              "<Figure size 432x288 with 2 Axes>"
            ]
          },
          "metadata": {
            "needs_background": "light"
          }
        },
        {
          "output_type": "stream",
          "name": "stdout",
          "text": [
            "0.6846605\n"
          ]
        }
      ]
    },
    {
      "cell_type": "markdown",
      "metadata": {
        "id": "pReLaxLxMThp"
      },
      "source": [
        "# ResNet"
      ]
    },
    {
      "cell_type": "code",
      "metadata": {
        "id": "7YqExrAHMKe2"
      },
      "source": [
        "from functools import partial\n",
        "#Let's create a ResidualUnit layer\n",
        "import tensorflow as tf\n",
        "import keras\n",
        "DefaultConv2D = partial(Conv2D, kernel_size=3, strides=1,\n",
        "                        padding=\"SAME\", use_bias=False)\n",
        "\n",
        "class ResidualUnit(tensorflow.keras.layers.Layer):\n",
        "    def __init__(self, filters, strides=1, activation=\"relu\", **kwargs):\n",
        "        super().__init__(**kwargs)\n",
        "        self.activation = tensorflow.keras.activations.get(activation)\n",
        "        self.main_layers = [\n",
        "            DefaultConv2D(filters, strides=strides),\n",
        "            BatchNormalization(),\n",
        "            self.activation,\n",
        "            DefaultConv2D(filters),\n",
        "            BatchNormalization()]\n",
        "        self.skip_layers = []\n",
        "        if strides > 1:\n",
        "            self.skip_layers = [\n",
        "                DefaultConv2D(filters, kernel_size=1, strides=strides),\n",
        "                BatchNormalization()]\n",
        "\n",
        "    def call(self, inputs):\n",
        "        Z = inputs\n",
        "        for layer in self.main_layers:\n",
        "            Z = layer(Z)\n",
        "        skip_Z = inputs\n",
        "        for layer in self.skip_layers:\n",
        "            skip_Z = layer(skip_Z)\n",
        "        return self.activation(Z + skip_Z)"
      ],
      "execution_count": null,
      "outputs": []
    },
    {
      "cell_type": "markdown",
      "metadata": {
        "id": "5ZXyrs_eZWeN"
      },
      "source": [
        "Creating 2 convoluation layers each with 16 filters (kernel_size=3) followed by a Max pooling layer. After the pooling layer 4 residual layers, with different filter sizes (16, 32, and 64) are added. The residual block is followed by the Max pooling layer. Then 3 dense layers are added and an output dense layer with one neuron."
      ]
    },
    {
      "cell_type": "code",
      "metadata": {
        "id": "jIt1QYyuZZ1V"
      },
      "source": [
        "tensorflow.keras.backend.clear_session()\n",
        "model = Sequential()\n",
        "model.add(Conv2D(16, kernel_size=3, padding='same', kernel_initializer='TruncatedNormal', \n",
        "                 input_shape=(img_rows, img_cols, nb_channels)))\n",
        "model.add(BatchNormalization())\n",
        "model.add(Activation(\"relu\"))\n",
        "model.add(DefaultConv2D(16, kernel_size=3, padding='same', kernel_initializer='TruncatedNormal'))\n",
        "model.add(BatchNormalization())\n",
        "model.add(Activation(\"relu\"))\n",
        "model.add(MaxPooling2D(pool_size=3, strides=2, padding=\"SAME\"))\n",
        "prev_filters = 64\n",
        "for filters in [16] * 1 + [32] * 2 + [64] * 1:\n",
        "    strides = 1 if filters == prev_filters else 2\n",
        "    model.add(ResidualUnit(filters, strides=strides))\n",
        "    prev_filters = filters\n",
        "model.add(MaxPooling2D(pool_size=3, strides=1, padding=\"SAME\"))\n",
        "model.add(Flatten())\n",
        "model.add(Dense(256, activation='relu'))\n",
        "model.add(BatchNormalization())\n",
        "model.add(Dropout(0.3))\n",
        "model.add(Dense(128, activation='relu'))\n",
        "model.add(BatchNormalization())\n",
        "model.add(Dropout(0.3))\n",
        "model.add(Dense(64, activation='relu'))\n",
        "model.add(BatchNormalization())\n",
        "model.add(Dropout(0.2))\n",
        "model.add(Dense(1, activation=\"sigmoid\"))\n"
      ],
      "execution_count": 22,
      "outputs": []
    },
    {
      "cell_type": "code",
      "metadata": {
        "id": "T_Cj01zyZhRM",
        "colab": {
          "base_uri": "https://localhost:8080/"
        },
        "outputId": "1077c3fc-da09-4806-989d-286168900852"
      },
      "source": [
        "model.compile(loss='binary_crossentropy', optimizer=Adam(lr=0.001), metrics=['accuracy'])"
      ],
      "execution_count": 23,
      "outputs": [
        {
          "output_type": "stream",
          "name": "stderr",
          "text": [
            "/usr/local/lib/python3.7/dist-packages/keras/optimizer_v2/adam.py:105: UserWarning: The `lr` argument is deprecated, use `learning_rate` instead.\n",
            "  super(Adam, self).__init__(name, **kwargs)\n"
          ]
        }
      ]
    },
    {
      "cell_type": "markdown",
      "metadata": {
        "id": "AEdxvnCuMnzl"
      },
      "source": [
        "## Train the model"
      ]
    },
    {
      "cell_type": "code",
      "metadata": {
        "id": "08rlC78CZhOl",
        "colab": {
          "base_uri": "https://localhost:8080/"
        },
        "outputId": "a9ddc2da-73c3-4626-a815-f79047634895"
      },
      "source": [
        "reduce_lr = ReduceLROnPlateau(monitor='val_loss', factor=0.5, patience=3, min_lr=1.e-6)\n",
        "#learning_schedule = \n",
        "history=model.fit(X_train, y_train,\\\n",
        "        batch_size=batch_size,\\\n",
        "        epochs=75,\\\n",
        "        validation_data=(X_valid, y_valid),\\\n",
        "        callbacks=[reduce_lr],\\\n",
        "        verbose=1, shuffle=True)"
      ],
      "execution_count": 24,
      "outputs": [
        {
          "output_type": "stream",
          "name": "stdout",
          "text": [
            "Epoch 1/75\n",
            "11250/11250 [==============================] - 92s 8ms/step - loss: 0.6287 - accuracy: 0.6504 - val_loss: 0.7812 - val_accuracy: 0.5215 - lr: 0.0010\n",
            "Epoch 2/75\n",
            "11250/11250 [==============================] - 90s 8ms/step - loss: 0.5745 - accuracy: 0.7092 - val_loss: 0.8235 - val_accuracy: 0.5141 - lr: 0.0010\n",
            "Epoch 3/75\n",
            "11250/11250 [==============================] - 89s 8ms/step - loss: 0.5648 - accuracy: 0.7160 - val_loss: 0.7804 - val_accuracy: 0.5016 - lr: 0.0010\n",
            "Epoch 4/75\n",
            "11250/11250 [==============================] - 89s 8ms/step - loss: 0.5597 - accuracy: 0.7203 - val_loss: 0.5570 - val_accuracy: 0.7229 - lr: 0.0010\n",
            "Epoch 5/75\n",
            "11250/11250 [==============================] - 89s 8ms/step - loss: 0.5561 - accuracy: 0.7237 - val_loss: 0.5537 - val_accuracy: 0.7201 - lr: 0.0010\n",
            "Epoch 6/75\n",
            "11250/11250 [==============================] - 89s 8ms/step - loss: 0.5539 - accuracy: 0.7243 - val_loss: 0.8389 - val_accuracy: 0.5030 - lr: 0.0010\n",
            "Epoch 7/75\n",
            "11250/11250 [==============================] - 88s 8ms/step - loss: 0.5518 - accuracy: 0.7260 - val_loss: 0.5424 - val_accuracy: 0.7315 - lr: 0.0010\n",
            "Epoch 8/75\n",
            "11250/11250 [==============================] - 89s 8ms/step - loss: 0.5504 - accuracy: 0.7271 - val_loss: 0.6807 - val_accuracy: 0.5694 - lr: 0.0010\n",
            "Epoch 9/75\n",
            "11250/11250 [==============================] - 89s 8ms/step - loss: 0.5488 - accuracy: 0.7281 - val_loss: 0.7477 - val_accuracy: 0.5222 - lr: 0.0010\n",
            "Epoch 10/75\n",
            "11250/11250 [==============================] - 89s 8ms/step - loss: 0.5475 - accuracy: 0.7291 - val_loss: 0.5456 - val_accuracy: 0.7319 - lr: 0.0010\n",
            "Epoch 11/75\n",
            "11250/11250 [==============================] - 89s 8ms/step - loss: 0.5415 - accuracy: 0.7334 - val_loss: 0.5338 - val_accuracy: 0.7357 - lr: 5.0000e-04\n",
            "Epoch 12/75\n",
            "11250/11250 [==============================] - 89s 8ms/step - loss: 0.5406 - accuracy: 0.7340 - val_loss: 0.5314 - val_accuracy: 0.7385 - lr: 5.0000e-04\n",
            "Epoch 13/75\n",
            "11250/11250 [==============================] - 88s 8ms/step - loss: 0.5392 - accuracy: 0.7354 - val_loss: 0.5498 - val_accuracy: 0.7303 - lr: 5.0000e-04\n",
            "Epoch 14/75\n",
            "11250/11250 [==============================] - 88s 8ms/step - loss: 0.5386 - accuracy: 0.7357 - val_loss: 0.5342 - val_accuracy: 0.7403 - lr: 5.0000e-04\n",
            "Epoch 15/75\n",
            "11250/11250 [==============================] - 89s 8ms/step - loss: 0.5378 - accuracy: 0.7366 - val_loss: 0.5437 - val_accuracy: 0.7295 - lr: 5.0000e-04\n",
            "Epoch 16/75\n",
            "11250/11250 [==============================] - 88s 8ms/step - loss: 0.5340 - accuracy: 0.7396 - val_loss: 0.5313 - val_accuracy: 0.7390 - lr: 2.5000e-04\n",
            "Epoch 17/75\n",
            "11250/11250 [==============================] - 88s 8ms/step - loss: 0.5330 - accuracy: 0.7401 - val_loss: 0.5278 - val_accuracy: 0.7416 - lr: 2.5000e-04\n",
            "Epoch 18/75\n",
            "11250/11250 [==============================] - 89s 8ms/step - loss: 0.5325 - accuracy: 0.7405 - val_loss: 0.5344 - val_accuracy: 0.7365 - lr: 2.5000e-04\n",
            "Epoch 19/75\n",
            "11250/11250 [==============================] - 88s 8ms/step - loss: 0.5322 - accuracy: 0.7410 - val_loss: 0.5296 - val_accuracy: 0.7372 - lr: 2.5000e-04\n",
            "Epoch 20/75\n",
            "11250/11250 [==============================] - 88s 8ms/step - loss: 0.5318 - accuracy: 0.7412 - val_loss: 0.5351 - val_accuracy: 0.7389 - lr: 2.5000e-04\n",
            "Epoch 21/75\n",
            "11250/11250 [==============================] - 88s 8ms/step - loss: 0.5288 - accuracy: 0.7430 - val_loss: 0.5295 - val_accuracy: 0.7404 - lr: 1.2500e-04\n",
            "Epoch 22/75\n",
            "11250/11250 [==============================] - 88s 8ms/step - loss: 0.5284 - accuracy: 0.7435 - val_loss: 0.5262 - val_accuracy: 0.7410 - lr: 1.2500e-04\n",
            "Epoch 23/75\n",
            "11250/11250 [==============================] - 88s 8ms/step - loss: 0.5281 - accuracy: 0.7441 - val_loss: 0.5282 - val_accuracy: 0.7393 - lr: 1.2500e-04\n",
            "Epoch 24/75\n",
            "11250/11250 [==============================] - 88s 8ms/step - loss: 0.5279 - accuracy: 0.7447 - val_loss: 0.5266 - val_accuracy: 0.7402 - lr: 1.2500e-04\n",
            "Epoch 25/75\n",
            "11250/11250 [==============================] - 88s 8ms/step - loss: 0.5272 - accuracy: 0.7447 - val_loss: 0.5266 - val_accuracy: 0.7411 - lr: 1.2500e-04\n",
            "Epoch 26/75\n",
            "11250/11250 [==============================] - 89s 8ms/step - loss: 0.5260 - accuracy: 0.7456 - val_loss: 0.5263 - val_accuracy: 0.7419 - lr: 6.2500e-05\n",
            "Epoch 27/75\n",
            "11250/11250 [==============================] - 88s 8ms/step - loss: 0.5252 - accuracy: 0.7468 - val_loss: 0.5267 - val_accuracy: 0.7409 - lr: 6.2500e-05\n",
            "Epoch 28/75\n",
            "11250/11250 [==============================] - 88s 8ms/step - loss: 0.5250 - accuracy: 0.7464 - val_loss: 0.5266 - val_accuracy: 0.7418 - lr: 6.2500e-05\n",
            "Epoch 29/75\n",
            "11250/11250 [==============================] - 88s 8ms/step - loss: 0.5241 - accuracy: 0.7467 - val_loss: 0.5263 - val_accuracy: 0.7409 - lr: 3.1250e-05\n",
            "Epoch 30/75\n",
            "11250/11250 [==============================] - 88s 8ms/step - loss: 0.5239 - accuracy: 0.7477 - val_loss: 0.5265 - val_accuracy: 0.7411 - lr: 3.1250e-05\n",
            "Epoch 31/75\n",
            "11250/11250 [==============================] - 88s 8ms/step - loss: 0.5238 - accuracy: 0.7473 - val_loss: 0.5269 - val_accuracy: 0.7405 - lr: 3.1250e-05\n",
            "Epoch 32/75\n",
            "11250/11250 [==============================] - 89s 8ms/step - loss: 0.5235 - accuracy: 0.7475 - val_loss: 0.5264 - val_accuracy: 0.7412 - lr: 1.5625e-05\n",
            "Epoch 33/75\n",
            "11250/11250 [==============================] - 89s 8ms/step - loss: 0.5233 - accuracy: 0.7472 - val_loss: 0.5263 - val_accuracy: 0.7410 - lr: 1.5625e-05\n",
            "Epoch 34/75\n",
            "11250/11250 [==============================] - 88s 8ms/step - loss: 0.5230 - accuracy: 0.7473 - val_loss: 0.5264 - val_accuracy: 0.7412 - lr: 1.5625e-05\n",
            "Epoch 35/75\n",
            "11250/11250 [==============================] - 91s 8ms/step - loss: 0.5233 - accuracy: 0.7470 - val_loss: 0.5263 - val_accuracy: 0.7416 - lr: 7.8125e-06\n",
            "Epoch 36/75\n",
            "11250/11250 [==============================] - 89s 8ms/step - loss: 0.5224 - accuracy: 0.7482 - val_loss: 0.5266 - val_accuracy: 0.7415 - lr: 7.8125e-06\n",
            "Epoch 37/75\n",
            "11250/11250 [==============================] - 88s 8ms/step - loss: 0.5225 - accuracy: 0.7481 - val_loss: 0.5264 - val_accuracy: 0.7412 - lr: 7.8125e-06\n",
            "Epoch 38/75\n",
            "11250/11250 [==============================] - 89s 8ms/step - loss: 0.5223 - accuracy: 0.7480 - val_loss: 0.5266 - val_accuracy: 0.7416 - lr: 3.9063e-06\n",
            "Epoch 39/75\n",
            "11250/11250 [==============================] - 88s 8ms/step - loss: 0.5224 - accuracy: 0.7481 - val_loss: 0.5267 - val_accuracy: 0.7418 - lr: 3.9063e-06\n",
            "Epoch 40/75\n",
            "11250/11250 [==============================] - 89s 8ms/step - loss: 0.5228 - accuracy: 0.7477 - val_loss: 0.5268 - val_accuracy: 0.7411 - lr: 3.9063e-06\n",
            "Epoch 41/75\n",
            "11250/11250 [==============================] - 89s 8ms/step - loss: 0.5227 - accuracy: 0.7480 - val_loss: 0.5266 - val_accuracy: 0.7414 - lr: 1.9531e-06\n",
            "Epoch 42/75\n",
            "11250/11250 [==============================] - 88s 8ms/step - loss: 0.5227 - accuracy: 0.7483 - val_loss: 0.5267 - val_accuracy: 0.7416 - lr: 1.9531e-06\n",
            "Epoch 43/75\n",
            "11250/11250 [==============================] - 89s 8ms/step - loss: 0.5224 - accuracy: 0.7487 - val_loss: 0.5268 - val_accuracy: 0.7408 - lr: 1.9531e-06\n",
            "Epoch 44/75\n",
            "11250/11250 [==============================] - 89s 8ms/step - loss: 0.5219 - accuracy: 0.7481 - val_loss: 0.5265 - val_accuracy: 0.7409 - lr: 1.0000e-06\n",
            "Epoch 45/75\n",
            "11250/11250 [==============================] - 89s 8ms/step - loss: 0.5222 - accuracy: 0.7481 - val_loss: 0.5264 - val_accuracy: 0.7409 - lr: 1.0000e-06\n",
            "Epoch 46/75\n",
            "11250/11250 [==============================] - 89s 8ms/step - loss: 0.5228 - accuracy: 0.7482 - val_loss: 0.5265 - val_accuracy: 0.7413 - lr: 1.0000e-06\n",
            "Epoch 47/75\n",
            "11250/11250 [==============================] - 89s 8ms/step - loss: 0.5227 - accuracy: 0.7478 - val_loss: 0.5264 - val_accuracy: 0.7412 - lr: 1.0000e-06\n",
            "Epoch 48/75\n",
            "11250/11250 [==============================] - 89s 8ms/step - loss: 0.5225 - accuracy: 0.7484 - val_loss: 0.5265 - val_accuracy: 0.7406 - lr: 1.0000e-06\n",
            "Epoch 49/75\n",
            "11250/11250 [==============================] - 89s 8ms/step - loss: 0.5223 - accuracy: 0.7485 - val_loss: 0.5264 - val_accuracy: 0.7412 - lr: 1.0000e-06\n",
            "Epoch 50/75\n",
            "11250/11250 [==============================] - 89s 8ms/step - loss: 0.5225 - accuracy: 0.7482 - val_loss: 0.5264 - val_accuracy: 0.7409 - lr: 1.0000e-06\n",
            "Epoch 51/75\n",
            "11250/11250 [==============================] - 89s 8ms/step - loss: 0.5227 - accuracy: 0.7481 - val_loss: 0.5265 - val_accuracy: 0.7409 - lr: 1.0000e-06\n",
            "Epoch 52/75\n",
            "11250/11250 [==============================] - 90s 8ms/step - loss: 0.5225 - accuracy: 0.7484 - val_loss: 0.5265 - val_accuracy: 0.7411 - lr: 1.0000e-06\n",
            "Epoch 53/75\n",
            "11250/11250 [==============================] - 89s 8ms/step - loss: 0.5222 - accuracy: 0.7483 - val_loss: 0.5265 - val_accuracy: 0.7412 - lr: 1.0000e-06\n",
            "Epoch 54/75\n",
            "11250/11250 [==============================] - 89s 8ms/step - loss: 0.5229 - accuracy: 0.7479 - val_loss: 0.5266 - val_accuracy: 0.7408 - lr: 1.0000e-06\n",
            "Epoch 55/75\n",
            "11250/11250 [==============================] - 89s 8ms/step - loss: 0.5223 - accuracy: 0.7478 - val_loss: 0.5265 - val_accuracy: 0.7410 - lr: 1.0000e-06\n",
            "Epoch 56/75\n",
            "11250/11250 [==============================] - 88s 8ms/step - loss: 0.5225 - accuracy: 0.7485 - val_loss: 0.5266 - val_accuracy: 0.7413 - lr: 1.0000e-06\n",
            "Epoch 57/75\n",
            "11250/11250 [==============================] - 89s 8ms/step - loss: 0.5226 - accuracy: 0.7475 - val_loss: 0.5268 - val_accuracy: 0.7415 - lr: 1.0000e-06\n",
            "Epoch 58/75\n",
            "11250/11250 [==============================] - 89s 8ms/step - loss: 0.5221 - accuracy: 0.7488 - val_loss: 0.5267 - val_accuracy: 0.7412 - lr: 1.0000e-06\n",
            "Epoch 59/75\n",
            "11250/11250 [==============================] - 89s 8ms/step - loss: 0.5223 - accuracy: 0.7484 - val_loss: 0.5265 - val_accuracy: 0.7416 - lr: 1.0000e-06\n",
            "Epoch 60/75\n",
            "11250/11250 [==============================] - 89s 8ms/step - loss: 0.5223 - accuracy: 0.7483 - val_loss: 0.5266 - val_accuracy: 0.7409 - lr: 1.0000e-06\n",
            "Epoch 61/75\n",
            "11250/11250 [==============================] - 90s 8ms/step - loss: 0.5221 - accuracy: 0.7484 - val_loss: 0.5266 - val_accuracy: 0.7409 - lr: 1.0000e-06\n",
            "Epoch 62/75\n",
            "11250/11250 [==============================] - 89s 8ms/step - loss: 0.5223 - accuracy: 0.7486 - val_loss: 0.5266 - val_accuracy: 0.7415 - lr: 1.0000e-06\n",
            "Epoch 63/75\n",
            "11250/11250 [==============================] - 90s 8ms/step - loss: 0.5227 - accuracy: 0.7480 - val_loss: 0.5267 - val_accuracy: 0.7412 - lr: 1.0000e-06\n",
            "Epoch 64/75\n",
            "11250/11250 [==============================] - 89s 8ms/step - loss: 0.5226 - accuracy: 0.7477 - val_loss: 0.5267 - val_accuracy: 0.7414 - lr: 1.0000e-06\n",
            "Epoch 65/75\n",
            "11250/11250 [==============================] - 89s 8ms/step - loss: 0.5223 - accuracy: 0.7483 - val_loss: 0.5266 - val_accuracy: 0.7412 - lr: 1.0000e-06\n",
            "Epoch 66/75\n",
            "11250/11250 [==============================] - 90s 8ms/step - loss: 0.5224 - accuracy: 0.7486 - val_loss: 0.5265 - val_accuracy: 0.7410 - lr: 1.0000e-06\n",
            "Epoch 67/75\n",
            "11250/11250 [==============================] - 89s 8ms/step - loss: 0.5222 - accuracy: 0.7484 - val_loss: 0.5266 - val_accuracy: 0.7412 - lr: 1.0000e-06\n",
            "Epoch 68/75\n",
            "11250/11250 [==============================] - 89s 8ms/step - loss: 0.5226 - accuracy: 0.7486 - val_loss: 0.5268 - val_accuracy: 0.7412 - lr: 1.0000e-06\n",
            "Epoch 69/75\n",
            "11250/11250 [==============================] - 90s 8ms/step - loss: 0.5227 - accuracy: 0.7486 - val_loss: 0.5267 - val_accuracy: 0.7409 - lr: 1.0000e-06\n",
            "Epoch 70/75\n",
            "11250/11250 [==============================] - 89s 8ms/step - loss: 0.5218 - accuracy: 0.7484 - val_loss: 0.5266 - val_accuracy: 0.7406 - lr: 1.0000e-06\n",
            "Epoch 71/75\n",
            "11250/11250 [==============================] - 90s 8ms/step - loss: 0.5220 - accuracy: 0.7489 - val_loss: 0.5267 - val_accuracy: 0.7412 - lr: 1.0000e-06\n",
            "Epoch 72/75\n",
            "11250/11250 [==============================] - 89s 8ms/step - loss: 0.5223 - accuracy: 0.7487 - val_loss: 0.5265 - val_accuracy: 0.7411 - lr: 1.0000e-06\n",
            "Epoch 73/75\n",
            "11250/11250 [==============================] - 89s 8ms/step - loss: 0.5223 - accuracy: 0.7490 - val_loss: 0.5266 - val_accuracy: 0.7412 - lr: 1.0000e-06\n",
            "Epoch 74/75\n",
            "11250/11250 [==============================] - 90s 8ms/step - loss: 0.5218 - accuracy: 0.7489 - val_loss: 0.5267 - val_accuracy: 0.7415 - lr: 1.0000e-06\n",
            "Epoch 75/75\n",
            "11250/11250 [==============================] - 90s 8ms/step - loss: 0.5224 - accuracy: 0.7486 - val_loss: 0.5266 - val_accuracy: 0.7405 - lr: 1.0000e-06\n"
          ]
        }
      ]
    },
    {
      "cell_type": "markdown",
      "metadata": {
        "id": "sjfqeh-jkQhC"
      },
      "source": [
        "##Monitoring the loss and accuracy"
      ]
    },
    {
      "cell_type": "code",
      "metadata": {
        "colab": {
          "base_uri": "https://localhost:8080/",
          "height": 334
        },
        "id": "1PsttnhWLL5z",
        "outputId": "febdc37f-2656-40b1-9bfe-f732f80765a1"
      },
      "source": [
        "import pandas as pd\n",
        "import matplotlib.pyplot as plt\n",
        "\n",
        "pd.DataFrame(history.history).plot(figsize=(8,5))\n",
        "plt.grid(True)\n",
        "plt.xlabel(\"epochs\")\n",
        "plt.ylabel('Error')\n",
        "plt.show()"
      ],
      "execution_count": 25,
      "outputs": [
        {
          "output_type": "display_data",
          "data": {
            "image/png": "[encoded data removed]",
            "text/plain": [
              "<Figure size 576x360 with 1 Axes>"
            ]
          },
          "metadata": {
            "needs_background": "light"
          }
        }
      ]
    },
    {
      "cell_type": "markdown",
      "metadata": {
        "id": "obxSYbS2MZMR"
      },
      "source": [
        "## Evaluate the Model  \n",
        "### Along with the model accuracy, the prefered metric for evaluation is ROC (Receiver Operating Characteristic) curve and the AUC score (Area under the ROC Curve)."
      ]
    },
    {
      "cell_type": "code",
      "metadata": {
        "id": "GN1k4WGKcWjp",
        "colab": {
          "base_uri": "https://localhost:8080/"
        },
        "outputId": "e9ff68a4-aa61-41ea-c716-11c31322244e"
      },
      "source": [
        "# Evaluate on validation set\n",
        "score = model.evaluate(X_valid, y_valid, verbose=1)\n",
        "print('\\nValidation loss / accuracy: %0.4f / %0.4f'%(score[0], score[1]))\n",
        "y_pred = model.predict(X_valid)\n",
        "fpr, tpr, _ = roc_curve(y_valid, y_pred)\n",
        "roc_auc = auc(fpr, tpr)\n",
        "print('Validation ROC AUC:', roc_auc)\n",
        "\n",
        "# Evaluate on test set\n",
        "score = model.evaluate(X_test, y_test, verbose=1)\n",
        "print('\\nTest loss / accuracy: %0.4f / %0.4f'%(score[0], score[1]))\n",
        "y_pred = model.predict(X_test)\n",
        "fpr, tpr, _ = roc_curve(y_test, y_pred)\n",
        "roc_auc = auc(fpr, tpr)\n",
        "print('Test ROC AUC:', roc_auc)"
      ],
      "execution_count": 26,
      "outputs": [
        {
          "output_type": "stream",
          "name": "stdout",
          "text": [
            "625/625 [==============================] - 2s 3ms/step - loss: 0.5266 - accuracy: 0.7405\n",
            "\n",
            "Validation loss / accuracy: 0.5266 / 0.7405\n",
            "Validation ROC AUC: 0.8146300750000001\n",
            "1250/1250 [==============================] - 4s 3ms/step - loss: 0.5271 - accuracy: 0.7420\n",
            "\n",
            "Test loss / accuracy: 0.5271 / 0.7420\n",
            "Test ROC AUC: 0.81397038\n"
          ]
        }
      ]
    },
    {
      "cell_type": "code",
      "metadata": {
        "id": "stY8WqqHcdZA",
        "colab": {
          "base_uri": "https://localhost:8080/",
          "height": 295
        },
        "outputId": "cddab73b-a3e9-4bc4-84ef-009f34fc81dc"
      },
      "source": [
        "plt.figure()\n",
        "lw = 2\n",
        "plt.plot(fpr, tpr, color='red',\n",
        "         lw=lw, label='ResNet ROC curve (area = %0.3f)' % roc_auc)\n",
        "plt.plot([0, 1], [0, 1], color='navy', lw=lw, linestyle='--')\n",
        "plt.xlim([0.0, 1.0])\n",
        "plt.ylim([0.0, 1.05])\n",
        "plt.xlabel('False Positive Rate')\n",
        "plt.ylabel('True Positive Rate')\n",
        "plt.title('Receiver operating characteristic (ROC) curve')\n",
        "plt.legend(loc=\"lower right\", fontsize=13)\n",
        "plt.show()"
      ],
      "execution_count": 28,
      "outputs": [
        {
          "output_type": "display_data",
          "data": {
            "image/png": "[encoded data removed]",
            "text/plain": [
              "<Figure size 432x288 with 1 Axes>"
            ]
          },
          "metadata": {
            "needs_background": "light"
          }
        }
      ]
    },
    {
      "cell_type": "markdown",
      "metadata": {
        "id": "bzMUCe90Lmmx"
      },
      "source": [
        "## Save the model"
      ]
    },
    {
      "cell_type": "code",
      "metadata": {
        "id": "Gu4cM1aYLpMR"
      },
      "source": [
        "model.save('ResNet75.h5')"
      ],
      "execution_count": 27,
      "outputs": []
    },
    {
      "cell_type": "markdown",
      "metadata": {
        "id": "Nna7GkM45Y5w"
      },
      "source": [
        "# Submission format: \n",
        "### Please submit the Google Colab Jupyter Notebook demonstrating your solution in the similar format as illustrated in this notebook. It should contain :\n",
        "*   The final model architecture, parameters and hyper-parameters yielding the best possible performance,\n",
        "*   Its Training and Validation accuracy, \n",
        "*   ROC curve and the AUC score as shown above.\n",
        "*   Also, please submit the final trained model containing the model architecture and its trained weights along with this notebook (For example: HDF5 file, .pb file, .pt file, etc.). You are free to choose Machine Learning Framework of your choice. "
      ]
    }
  ]
}