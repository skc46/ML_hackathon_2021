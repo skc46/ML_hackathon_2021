{
  "nbformat": 4,
  "nbformat_minor": 0,
  "metadata": {
    "colab": {
      "name": "ParticleImages.ipynb",
      "provenance": [],
      "collapsed_sections": [],
      "toc_visible": true,
      "include_colab_link": true
    },
    "kernelspec": {
      "name": "python3",
      "display_name": "Python 3"
    },
    "accelerator": "GPU"
  },
  "cells": [
    {
      "cell_type": "markdown",
      "metadata": {
        "id": "view-in-github",
        "colab_type": "text"
      },
      "source": [
        "<a href=\"https://colab.research.google.com/github/skc46/ML_hackathon_2021/blob/main/ParticleImagesChallenge/ParticleImages.ipynb\" target=\"_parent\"><img src=\"https://colab.research.google.com/assets/colab-badge.svg\" alt=\"Open In Colab\"/></a>"
      ]
    },
    {
      "cell_type": "markdown",
      "metadata": {
        "id": "P3DtjEbf8M4I"
      },
      "source": [
        "# Hackathon - Particle Images\n",
        "## Problem Statement \n",
        "*   One of the important aspects of searches for new physics at the Large Hadron Collider (LHC) involves the classification of various High-Energy Particles in collision events\n",
        "*   The goal of this challenge is to develop a model which classifies electron and photon electromagnetic showers as accurately as possible based on the detector images provided in the dataset below (one pixel = one channel of the detector)\n",
        "*   The preferred metric for evaluating the model is ROC curve (Receiver Operating Characteristic curve) and the AUC (Area Under the ROC Curve) score.\n",
        "*   Although we are using Keras Framework in this sample notebook, you are free to choose Machine Learning / Deep Learning Framework of your choice. \n",
        "\n"
      ]
    },
    {
      "cell_type": "markdown",
      "metadata": {
        "id": "g0b6SRpWl2Xh"
      },
      "source": [
        "## Create the appropriate project folder "
      ]
    },
    {
      "cell_type": "code",
      "metadata": {
        "id": "OYRULwKaw_A6"
      },
      "source": [
        "mkdir Particle_Images"
      ],
      "execution_count": 1,
      "outputs": []
    },
    {
      "cell_type": "code",
      "metadata": {
        "id": "at-4-Xub8DYW",
        "colab": {
          "base_uri": "https://localhost:8080/"
        },
        "outputId": "2e943627-0f3e-4928-808f-bdcc2a6366ba"
      },
      "source": [
        "cd Particle_Images"
      ],
      "execution_count": 2,
      "outputs": [
        {
          "output_type": "stream",
          "name": "stdout",
          "text": [
            "/content/Particle_Images\n"
          ]
        }
      ]
    },
    {
      "cell_type": "code",
      "metadata": {
        "id": "BQGKM10j2CiQ"
      },
      "source": [
        "mkdir data/"
      ],
      "execution_count": 3,
      "outputs": []
    },
    {
      "cell_type": "markdown",
      "metadata": {
        "id": "PEtRyfNv9XVn"
      },
      "source": [
        "# Download the Dataset"
      ]
    },
    {
      "cell_type": "code",
      "metadata": {
        "id": "rcK1wY4Qt_7Y",
        "colab": {
          "base_uri": "https://localhost:8080/"
        },
        "outputId": "c52d8934-152b-4783-e34a-2ee3d31a4e4f"
      },
      "source": [
        "#!/bin/bash\n",
        "!wget https://cernbox.cern.ch/index.php/s/sHjzCNFTFxutYCj/download -O data/SingleElectronPt50_IMGCROPS_n249k_RHv1.hdf5\n",
        "!wget https://cernbox.cern.ch/index.php/s/69nGEZjOy3xGxBq/download -O data/SinglePhotonPt50_IMGCROPS_n249k_RHv1.hdf5"
      ],
      "execution_count": 4,
      "outputs": [
        {
          "output_type": "stream",
          "name": "stdout",
          "text": [
            "--2021-11-15 17:52:19--  https://cernbox.cern.ch/index.php/s/sHjzCNFTFxutYCj/download\n",
            "Resolving cernbox.cern.ch (cernbox.cern.ch)... 128.142.53.35, 128.142.53.28, 137.138.120.151, ...\n",
            "Connecting to cernbox.cern.ch (cernbox.cern.ch)|128.142.53.35|:443... connected.\n",
            "HTTP request sent, awaiting response... 200 OK\n",
            "Length: 87010508 (83M) [application/octet-stream]\n",
            "Saving to: ‘data/SingleElectronPt50_IMGCROPS_n249k_RHv1.hdf5’\n",
            "\n",
            "data/SingleElectron 100%[===================>]  82.98M  18.6MB/s    in 4.5s    \n",
            "\n",
            "Last-modified header invalid -- time-stamp ignored.\n",
            "2021-11-15 17:52:26 (18.6 MB/s) - ‘data/SingleElectronPt50_IMGCROPS_n249k_RHv1.hdf5’ saved [87010508/87010508]\n",
            "\n",
            "--2021-11-15 17:52:26--  https://cernbox.cern.ch/index.php/s/69nGEZjOy3xGxBq/download\n",
            "Resolving cernbox.cern.ch (cernbox.cern.ch)... 128.142.53.35, 188.184.97.72, 137.138.120.151, ...\n",
            "Connecting to cernbox.cern.ch (cernbox.cern.ch)|128.142.53.35|:443... connected.\n",
            "HTTP request sent, awaiting response... 200 OK\n",
            "Length: 79876391 (76M) [application/octet-stream]\n",
            "Saving to: ‘data/SinglePhotonPt50_IMGCROPS_n249k_RHv1.hdf5’\n",
            "\n",
            "data/SinglePhotonPt 100%[===================>]  76.18M  18.0MB/s    in 4.2s    \n",
            "\n",
            "Last-modified header invalid -- time-stamp ignored.\n",
            "2021-11-15 17:52:33 (18.0 MB/s) - ‘data/SinglePhotonPt50_IMGCROPS_n249k_RHv1.hdf5’ saved [79876391/79876391]\n",
            "\n"
          ]
        }
      ]
    },
    {
      "cell_type": "code",
      "metadata": {
        "id": "KpQvUlOyhiwS",
        "outputId": "93035385-55bc-4395-af18-9cfa75e208bf",
        "colab": {
          "base_uri": "https://localhost:8080/"
        }
      },
      "source": [
        "pip install scikeras"
      ],
      "execution_count": 5,
      "outputs": [
        {
          "output_type": "stream",
          "name": "stdout",
          "text": [
            "Collecting scikeras\n",
            "  Downloading scikeras-0.4.1-py3-none-any.whl (27 kB)\n",
            "Requirement already satisfied: packaging<22.0,>=0.21 in /usr/local/lib/python3.7/dist-packages (from scikeras) (21.2)\n",
            "Requirement already satisfied: scikit-learn>=0.22.0 in /usr/local/lib/python3.7/dist-packages (from scikeras) (1.0.1)\n",
            "Collecting importlib-metadata<4,>=3\n",
            "  Downloading importlib_metadata-3.10.1-py3-none-any.whl (14 kB)\n",
            "Requirement already satisfied: zipp>=0.5 in /usr/local/lib/python3.7/dist-packages (from importlib-metadata<4,>=3->scikeras) (3.6.0)\n",
            "Requirement already satisfied: typing-extensions>=3.6.4 in /usr/local/lib/python3.7/dist-packages (from importlib-metadata<4,>=3->scikeras) (3.10.0.2)\n",
            "Requirement already satisfied: pyparsing<3,>=2.0.2 in /usr/local/lib/python3.7/dist-packages (from packaging<22.0,>=0.21->scikeras) (2.4.7)\n",
            "Requirement already satisfied: threadpoolctl>=2.0.0 in /usr/local/lib/python3.7/dist-packages (from scikit-learn>=0.22.0->scikeras) (3.0.0)\n",
            "Requirement already satisfied: scipy>=1.1.0 in /usr/local/lib/python3.7/dist-packages (from scikit-learn>=0.22.0->scikeras) (1.4.1)\n",
            "Requirement already satisfied: joblib>=0.11 in /usr/local/lib/python3.7/dist-packages (from scikit-learn>=0.22.0->scikeras) (1.1.0)\n",
            "Requirement already satisfied: numpy>=1.14.6 in /usr/local/lib/python3.7/dist-packages (from scikit-learn>=0.22.0->scikeras) (1.19.5)\n",
            "Installing collected packages: importlib-metadata, scikeras\n",
            "  Attempting uninstall: importlib-metadata\n",
            "    Found existing installation: importlib-metadata 4.8.2\n",
            "    Uninstalling importlib-metadata-4.8.2:\n",
            "      Successfully uninstalled importlib-metadata-4.8.2\n",
            "Successfully installed importlib-metadata-3.10.1 scikeras-0.4.1\n"
          ]
        }
      ]
    },
    {
      "cell_type": "markdown",
      "metadata": {
        "id": "BepRE7pn8Du7"
      },
      "source": [
        "# Import modules"
      ]
    },
    {
      "cell_type": "code",
      "metadata": {
        "id": "ZnLzC5paz0hb"
      },
      "source": [
        "import numpy as np\n",
        "np.random.seed(1337)  # for reproducibility\n",
        "import h5py\n",
        "import tensorflow\n",
        "from tensorflow.keras.models import Sequential\n",
        "from tensorflow.keras.optimizers import Adam, Nadam, SGD, Adamax \n",
        "from tensorflow.keras.initializers import TruncatedNormal, glorot_normal\n",
        "from tensorflow.keras.layers import Input, Dense, Dropout, Flatten, Conv2D, MaxPooling2D, BatchNormalization, Activation, GlobalAvgPool2D\n",
        "from tensorflow.keras.callbacks import ReduceLROnPlateau\n",
        "from tensorflow.keras.preprocessing.image import ImageDataGenerator\n",
        "from sklearn.model_selection import RandomizedSearchCV, GridSearchCV\n",
        "\n",
        "from sklearn.metrics import roc_curve, auc, accuracy_score\n",
        "\n",
        "import matplotlib.pyplot as plt"
      ],
      "execution_count": 6,
      "outputs": []
    },
    {
      "cell_type": "markdown",
      "metadata": {
        "id": "Az_MoJwZ8K6l"
      },
      "source": [
        "# Keras Model Parameters"
      ]
    },
    {
      "cell_type": "code",
      "metadata": {
        "id": "ZzF8AHl_4yUA"
      },
      "source": [
        "#lr_init     = 1.e-3    # Initial learning rate  \n",
        "batch_size  = 32     # Training batch size\n",
        "train_size  = 16000     # Training size\n",
        "valid_size  = 2000     # Validation size\n",
        "test_size   = 2000     # Test size\n",
        "epochs      = 25       # Number of epochs\n",
        "doGPU       = True    # Use GPU"
      ],
      "execution_count": 7,
      "outputs": []
    },
    {
      "cell_type": "markdown",
      "metadata": {
        "id": "_jX_l-WmplJx"
      },
      "source": [
        "## It is recommended to use GPU for training and inference if possible."
      ]
    },
    {
      "cell_type": "code",
      "metadata": {
        "id": "PVq1XGr640nJ"
      },
      "source": [
        "if doGPU:\n",
        "    import tensorflow.compat.v1 as tf\n",
        "    from tensorflow.compat.v1.keras.backend import set_session\n",
        "    config = tf.ConfigProto()\n",
        "    config.gpu_options.allow_growth=True\n",
        "    set_session(tf.Session(config=config))"
      ],
      "execution_count": 8,
      "outputs": []
    },
    {
      "cell_type": "markdown",
      "metadata": {
        "id": "xwc56kXJ8TLo"
      },
      "source": [
        "# Load Image Data\n",
        "### Two classes of particles: electrons and photons\n",
        "### 32x32 matrices (two channels - hit energy and time) for the two classes of particles electrons and photons impinging on a calorimeter (one calorimetric cell = one pixel).\n",
        "#### Please note that although timing channel is provided, it may not necessarily help the performance of the model."
      ]
    },
    {
      "cell_type": "code",
      "metadata": {
        "id": "kr4QIMlt424u"
      },
      "source": [
        "img_rows, img_cols, nb_channels = 32, 32, 2        \n",
        "input_dir = 'data'\n",
        "decays = ['SinglePhotonPt50_IMGCROPS_n249k_RHv1', 'SingleElectronPt50_IMGCROPS_n249k_RHv1']\n",
        "\n",
        "def load_data(decays, start, stop):\n",
        "    global input_dir\n",
        "    dsets = [h5py.File('%s/%s.hdf5'%(input_dir,decay)) for decay in decays]\n",
        "    X = np.concatenate([dset['/X'][start:stop] for dset in dsets])\n",
        "    y = np.concatenate([dset['/y'][start:stop] for dset in dsets])\n",
        "    assert len(X) == len(y)\n",
        "    return X, y"
      ],
      "execution_count": 9,
      "outputs": []
    },
    {
      "cell_type": "markdown",
      "metadata": {
        "id": "-JpHCOf38fDL"
      },
      "source": [
        "# Configure Training / Validation / Test Sets"
      ]
    },
    {
      "cell_type": "code",
      "metadata": {
        "id": "-RTXS58x46Fq"
      },
      "source": [
        "# Set range of training set\n",
        "train_start, train_stop = 0, train_size\n",
        "assert train_stop > train_start\n",
        "assert (len(decays)*train_size) % batch_size == 0\n",
        "X_train, y_train = load_data(decays,train_start,train_stop)\n",
        "\n",
        "# Set range of validation set\n",
        "valid_start, valid_stop = train_size, train_size+valid_size\n",
        "assert valid_stop  >  valid_start\n",
        "assert valid_start >= train_stop\n",
        "X_valid, y_valid = load_data(decays,valid_start,valid_stop)\n",
        "\n",
        "# Set range of test set\n",
        "test_start, test_stop = (train_size+valid_size), (train_size+valid_size)+test_size\n",
        "assert test_stop  >  test_start\n",
        "assert test_start >= valid_stop\n",
        "X_test, y_test = load_data(decays,test_start,test_stop)\n",
        "\n",
        "samples_requested = len(decays) * (train_size + valid_size + test_size)\n",
        "samples_available = len(y_train) + len(y_valid) + len(y_test)\n",
        "assert samples_requested == samples_available"
      ],
      "execution_count": 10,
      "outputs": []
    },
    {
      "cell_type": "markdown",
      "metadata": {
        "id": "UTFIMRnL8w41"
      },
      "source": [
        "# Plot sample of training images\n",
        "### Please note that although timing channel is provided, it may not necessarily help the performance of the model."
      ]
    },
    {
      "cell_type": "code",
      "metadata": {
        "id": "e_IDs16U52-C",
        "colab": {
          "base_uri": "https://localhost:8080/",
          "height": 163
        },
        "outputId": "286c89af-f2d8-4dcf-a83e-2606d7d3bb71"
      },
      "source": [
        "plt.figure(1)\n",
        "\n",
        "plt.subplot(221)\n",
        "plt.imshow(X_train[1,:,:,0])\n",
        "plt.title(\"Channel 0: Energy\")  # Energy\n",
        "plt.grid(True)\n",
        "\n",
        "plt.subplot(222)\n",
        "plt.imshow(X_train[1,:,:,1])\n",
        "plt.title(\"Channel 1: Time\")  # Time\n",
        "plt.grid(True)\n",
        "\n",
        "\n",
        "plt.show()"
      ],
      "execution_count": 22,
      "outputs": [
        {
          "output_type": "display_data",
          "data": {
            "image/png": "[encoded data removed]",
            "text/plain": [
              "<Figure size 432x288 with 2 Axes>"
            ]
          },
          "metadata": {
            "needs_background": "light"
          }
        }
      ]
    },
    {
      "cell_type": "markdown",
      "metadata": {
        "id": "ke_NQLiz83jZ"
      },
      "source": [
        "# Define CNN Model\n",
        "## This is a sample model. You can experiment with the model and try various architectures and other models to achieve the highest possible performance.  "
      ]
    },
    {
      "cell_type": "code",
      "metadata": {
        "id": "OlIJuxXG7KDk"
      },
      "source": [
        "### Define Convolutional Neural Network (CNN) Model ###\n",
        "tensorflow.keras.backend.clear_session()\n",
        "model = Sequential()\n",
        "model.add(Conv2D(16, activation='relu', kernel_size=3, padding='same', kernel_initializer='TruncatedNormal', input_shape=(img_rows, img_cols, nb_channels)))\n",
        "model.add(Conv2D(16, activation='relu', kernel_size=3, padding='same', kernel_initializer='TruncatedNormal'))\n",
        "model.add(MaxPooling2D(pool_size=(2, 2)))\n",
        "model.add(Conv2D(32, activation='relu', kernel_size=3, padding='same', kernel_initializer='TruncatedNormal'))\n",
        "model.add(Conv2D(32, activation='relu', kernel_size=3, padding='same', kernel_initializer='TruncatedNormal'))\n",
        "model.add(MaxPooling2D(pool_size=(2, 2)))\n",
        "model.add(Flatten())\n",
        "model.add(Dense(256, activation='relu', kernel_initializer='TruncatedNormal'))\n",
        "model.add(Dropout(0.2))\n",
        "model.add(Dense(128, activation='relu', kernel_initializer='TruncatedNormal'))\n",
        "model.add(Dropout(0.2))\n",
        "model.add(Dense(1, activation='sigmoid', kernel_initializer='TruncatedNormal'))\n",
        "model.compile(loss='binary_crossentropy', optimizer=Adam(learning_rate=lr_init), metrics=['accuracy'])"
      ],
      "execution_count": 17,
      "outputs": []
    },
    {
      "cell_type": "markdown",
      "metadata": {
        "id": "1S8pnqKzc931"
      },
      "source": [
        "##Stacked Autoencoder"
      ]
    },
    {
      "cell_type": "code",
      "metadata": {
        "id": "iCOzYUTVdDwH"
      },
      "source": [
        "conv_encoder = keras.models.Sequential([\n",
        "            Conv2D(16, activation='relu', kernel_size=3, padding='same', kernel_initializer='TruncatedNormal', input_shape=(img_rows, img_cols, nb_channels)),\n",
        "            Conv2D(16, activation='relu', kernel_size=3, padding='same', kernel_initializer='TruncatedNormal'),\n",
        "            MaxPooling2D(pool_size=(2, 2))\n",
        "\n",
        "])"
      ],
      "execution_count": null,
      "outputs": []
    },
    {
      "cell_type": "code",
      "metadata": {
        "id": "KH7-_iU73-lK",
        "outputId": "e550ee44-e51d-44dd-8f9c-ca5607801ca4",
        "colab": {
          "base_uri": "https://localhost:8080/"
        }
      },
      "source": [
        "tensorflow.keras.backend.clear_session()\n",
        "model = Sequential()\n",
        "model.add(Conv2D(16, activation='relu', kernel_size=3, padding='same', kernel_initializer='TruncatedNormal', input_shape=(img_rows, img_cols, nb_channels)))\n",
        "model.add(BatchNormalization())\n",
        "model.add(Conv2D(16, activation='relu', kernel_size=3, padding='same', kernel_initializer='TruncatedNormal'))\n",
        "model.add(BatchNormalization())\n",
        "model.add(MaxPooling2D(pool_size=(2, 2)))\n",
        "model.add(Conv2D(32, activation='relu', kernel_size=3, padding='same', kernel_initializer='TruncatedNormal'))\n",
        "model.add(BatchNormalization())\n",
        "model.add(Conv2D(32, activation='relu', kernel_size=3, padding='same', kernel_initializer='TruncatedNormal'))\n",
        "model.add(BatchNormalization())\n",
        "model.add(MaxPooling2D(pool_size=(2, 2)))\n",
        "model.add(Conv2D(32, activation='relu', kernel_size=3, padding='same', kernel_initializer='TruncatedNormal'))\n",
        "model.add(BatchNormalization())\n",
        "model.add(Conv2D(32, activation='relu', kernel_size=3, padding='same', kernel_initializer='TruncatedNormal'))\n",
        "model.add(BatchNormalization())\n",
        "model.add(MaxPooling2D(pool_size=(2, 2)))\n",
        "model.add(Flatten())\n",
        "model.add(Dense(256, activation='relu', kernel_initializer='TruncatedNormal'))\n",
        "model.add(BatchNormalization())\n",
        "model.add(Dropout(0.2))\n",
        "model.add(Dense(128, activation='relu', kernel_initializer='TruncatedNormal'))\n",
        "model.add(BatchNormalization())\n",
        "model.add(Dropout(0.2))\n",
        "model.add(Dense(64, activation='relu', kernel_initializer='TruncatedNormal'))\n",
        "model.add(BatchNormalization())\n",
        "model.add(Dropout(0.2))\n",
        "model.add(Dense(1, activation='sigmoid', kernel_initializer='TruncatedNormal'))\n",
        "model.compile(loss='binary_crossentropy', optimizer=Nadam(lr=lr_init), metrics=['accuracy'])"
      ],
      "execution_count": 35,
      "outputs": [
        {
          "output_type": "stream",
          "name": "stderr",
          "text": [
            "/usr/local/lib/python3.7/dist-packages/keras/optimizer_v2/nadam.py:73: UserWarning: The `lr` argument is deprecated, use `learning_rate` instead.\n",
            "  super(Nadam, self).__init__(name, **kwargs)\n"
          ]
        }
      ]
    },
    {
      "cell_type": "markdown",
      "metadata": {
        "id": "bsQWFD0M86pA"
      },
      "source": [
        "## Train the Model\n",
        "### You may further optimize the model, tune hyper-parameters, etc. accordingly to achieve the best performance possible."
      ]
    },
    {
      "cell_type": "code",
      "metadata": {
        "id": "y95s2yEMp-0C"
      },
      "source": [
        "K = tensorflow.keras.backend\n",
        "\n",
        "class ExponentialLearningRate(tensorflow.keras.callbacks.Callback):\n",
        "    def __init__(self, factor):\n",
        "        self.factor = factor\n",
        "        self.rates = []\n",
        "        self.losses = []\n",
        "    def on_batch_end(self, batch, logs):\n",
        "        self.rates.append(K.get_value(self.model.optimizer.learning_rate))\n",
        "        self.losses.append(logs[\"loss\"])\n",
        "        K.set_value(self.model.optimizer.learning_rate, self.model.optimizer.learning_rate * self.factor)"
      ],
      "execution_count": 23,
      "outputs": []
    },
    {
      "cell_type": "code",
      "metadata": {
        "id": "AwmjUDEosIz8"
      },
      "source": [
        "def build_model(lr_init=5.e-1, factor=0.2):\n",
        "    model = Sequential()\n",
        "    model.add(Conv2D(16, activation='relu', kernel_size=3, padding='same', kernel_initializer='TruncatedNormal', input_shape=(img_rows, img_cols, nb_channels)))\n",
        "    model.add(Conv2D(16, activation='relu', kernel_size=3, padding='same', kernel_initializer='TruncatedNormal'))\n",
        "    model.add(MaxPooling2D(pool_size=(2, 2)))\n",
        "    model.add(Conv2D(32, activation='relu', kernel_size=3, padding='same', kernel_initializer='TruncatedNormal'))\n",
        "    model.add(Conv2D(32, activation='relu', kernel_size=3, padding='same', kernel_initializer='TruncatedNormal'))\n",
        "    model.add(MaxPooling2D(pool_size=(2, 2)))\n",
        "    model.add(Flatten())\n",
        "    model.add(Dense(256, activation='relu', kernel_initializer='TruncatedNormal'))\n",
        "    model.add(Dropout(0.2))\n",
        "    model.add(Dense(128, activation='relu', kernel_initializer='TruncatedNormal'))\n",
        "    model.add(Dropout(0.2))\n",
        "    model.add(Dense(1, activation='sigmoid', kernel_initializer='TruncatedNormal'))\n",
        "\n",
        "    model.compile(loss='binary_crossentropy', optimizer=Adam(learning_rate=lr_init), metrics=['accuracy'])\n",
        "\n",
        "    #reduce_lr = ReduceLROnPlateau(monitor='val_loss', factor=factors, patience=3, min_lr=1.e-6)\n",
        "    return model\n"
      ],
      "execution_count": 19,
      "outputs": []
    },
    {
      "cell_type": "code",
      "metadata": {
        "id": "cd4zaJCxYwx5"
      },
      "source": [
        "def build_model_lr(lr_init=1.e-3):\n",
        "    model = Sequential()\n",
        "    model.add(Conv2D(16, activation='relu', kernel_size=3, padding='same', kernel_initializer='glorot_normal', kernel_regularizer= keras.regularizers.l2(0.01), input_shape=(img_rows, img_cols, 2)))\n",
        "    model.add(BatchNormalization())\n",
        "    model.add(Conv2D(16, activation='relu', kernel_size=3, padding='same', kernel_initializer='glorot_normal', kernel_regularizer= keras.regularizers.l2(0.01)))\n",
        "    model.add(BatchNormalization())\n",
        "    model.add(MaxPooling2D(pool_size=(2, 2)))\n",
        "    model.add(Conv2D(32, activation='relu', kernel_size=3, padding='same', kernel_initializer='glorot_normal', kernel_regularizer= keras.regularizers.l2(0.01)))\n",
        "    model.add(BatchNormalization())\n",
        "    model.add(Conv2D(32, activation='relu', kernel_size=3, padding='same', kernel_initializer='glorot_normal', kernel_regularizer= keras.regularizers.l2(0.01)))\n",
        "    model.add(BatchNormalization())\n",
        "    model.add(MaxPooling2D(pool_size=(2, 2)))\n",
        "    model.add(Conv2D(64, activation='relu', kernel_size=3, padding='same', kernel_initializer='glorot_normal', kernel_regularizer= keras.regularizers.l2(0.01)))\n",
        "    model.add(BatchNormalization())\n",
        "    model.add(Conv2D(64, activation='relu', kernel_size=3, padding='same', kernel_initializer='glorot_normal', kernel_regularizer= keras.regularizers.l2(0.01)))\n",
        "    model.add(BatchNormalization())\n",
        "    model.add(Flatten())\n",
        "    model.add(Dense(256, activation='relu', kernel_initializer='glorot_normal', kernel_regularizer= keras.regularizers.l2(0.01)))\n",
        "    model.add(BatchNormalization())\n",
        "    model.add(Dropout(0.2))\n",
        "    model.add(Dense(128, activation='relu', kernel_initializer='glorot_normal', kernel_regularizer= keras.regularizers.l2(0.01)))\n",
        "    model.add(BatchNormalization())\n",
        "    model.add(Dropout(0.2))\n",
        "    model.add(Dense(1, activation='sigmoid', kernel_initializer='glorot_normal', kernel_regularizer= keras.regularizers.l2(0.01)))\n",
        "    model.compile(loss='binary_crossentropy', optimizer=Adam(learning_rate=lr_init), metrics=['accuracy'])\n",
        "    \n",
        "    #reduce_lr = ReduceLROnPlateau(monitor='val_loss', factor=factors, patience=3, min_lr=1.e-6)\n",
        "    \n",
        "    return model"
      ],
      "execution_count": 30,
      "outputs": []
    },
    {
      "cell_type": "code",
      "metadata": {
        "id": "ZGuyM25L7uc0"
      },
      "source": [
        "from scikeras.wrappers import KerasClassifier\n",
        "cnn_wrap = KerasClassifier(model = build_model, lr_init=0.5, factor=0.1, callbacks=ReduceLROnPlateau, callbacks__0__monitor='val_loss', callbacks__0__factor=0.2, callbacks__0__patience=3)"
      ],
      "execution_count": 20,
      "outputs": []
    },
    {
      "cell_type": "code",
      "metadata": {
        "id": "LGg61dhCTsFw",
        "outputId": "85e11100-6113-4d6b-c57d-d750ecd90492",
        "colab": {
          "base_uri": "https://localhost:8080/"
        }
      },
      "source": [
        "param_distribs = {\"factor\":[0.1,0.3,0.5],\n",
        "                  \"lr_init\":[0.5,.01, 0.05, 0.01, 0.005, 0.001, 0.0005]}\n",
        "\n",
        "grid_search_cv = GridSearchCV(cnn_wrap, param_distribs, cv = 3)\n",
        "\n",
        "#reduce_lr = ReduceLROnPlateau(monitor='val_loss', factor=0.2, patience=3, min_lr=1.e-6)\n",
        "\n",
        "grid_search_cv.fit(X_train, y_train,\\\n",
        "        batch_size=batch_size,\\\n",
        "        epochs=15,\\\n",
        "        validation_data=(X_valid, y_valid),\\\n",
        "        verbose=0)\n",
        "\n",
        "# summary results\n",
        "print(\"Best: %f using %s\" %(grid_search_cv.best_score_, grid_search_cv.best_params_))\n",
        "\n",
        "means = grid_search_cv.cv_results_['mean_test_score']\n",
        "stds = grid_search_cv.cv_results_['std_test_score']\n",
        "params = grid_search_cv.cv_results_['params']\n",
        "for mean, stdev, param in zip(means, stds, params):\n",
        "    print(\"%f (%f) with: %r\" %(mean, stdev, param))"
      ],
      "execution_count": null,
      "outputs": [
        {
          "output_type": "stream",
          "name": "stdout",
          "text": [
            "334/334 [==============================] - 1s 3ms/step\n",
            "334/334 [==============================] - 1s 3ms/step\n",
            "334/334 [==============================] - 1s 3ms/step\n",
            "334/334 [==============================] - 1s 3ms/step\n",
            "334/334 [==============================] - 1s 3ms/step\n",
            "334/334 [==============================] - 1s 3ms/step\n",
            "334/334 [==============================] - 1s 3ms/step\n",
            "334/334 [==============================] - 1s 3ms/step\n",
            "334/334 [==============================] - 1s 3ms/step\n",
            "334/334 [==============================] - 1s 3ms/step\n",
            "334/334 [==============================] - 1s 3ms/step\n",
            "334/334 [==============================] - 1s 3ms/step\n",
            "334/334 [==============================] - 1s 3ms/step\n",
            "334/334 [==============================] - 1s 3ms/step\n",
            "334/334 [==============================] - 1s 3ms/step\n",
            "334/334 [==============================] - 1s 3ms/step\n",
            "334/334 [==============================] - 1s 3ms/step\n",
            "334/334 [==============================] - 1s 3ms/step\n",
            "334/334 [==============================] - 1s 3ms/step\n",
            "334/334 [==============================] - 1s 3ms/step\n",
            "334/334 [==============================] - 1s 3ms/step\n",
            "334/334 [==============================] - 1s 3ms/step\n",
            "334/334 [==============================] - 1s 3ms/step\n",
            "334/334 [==============================] - 1s 3ms/step\n",
            "334/334 [==============================] - 1s 3ms/step\n",
            "334/334 [==============================] - 1s 3ms/step\n",
            "334/334 [==============================] - 1s 3ms/step\n",
            "334/334 [==============================] - 1s 3ms/step\n",
            "334/334 [==============================] - 1s 3ms/step\n",
            "334/334 [==============================] - 1s 3ms/step\n",
            "334/334 [==============================] - 1s 3ms/step\n",
            "334/334 [==============================] - 1s 3ms/step\n"
          ]
        }
      ]
    },
    {
      "cell_type": "code",
      "metadata": {
        "id": "ThPQWK7CwNSQ",
        "outputId": "3fe10457-7466-4ec5-c9c0-ac64763327d9",
        "colab": {
          "base_uri": "https://localhost:8080/"
        }
      },
      "source": [
        "history=model.fit(X_train, y_train,\\\n",
        "        epochs=1,\\\n",
        "        validation_data=(X_valid, y_valid),\\\n",
        "        callbacks=[expon_lr])"
      ],
      "execution_count": 26,
      "outputs": [
        {
          "output_type": "stream",
          "name": "stdout",
          "text": [
            "1000/1000 [==============================] - 84s 84ms/step - loss: 0.6938 - accuracy: 0.4991 - val_loss: 0.6946 - val_accuracy: 0.5000\n"
          ]
        }
      ]
    },
    {
      "cell_type": "code",
      "metadata": {
        "id": "N3PU1YBrtVwm",
        "outputId": "e6fdd63a-bed7-4cce-8e1c-eeb70da046fa",
        "colab": {
          "base_uri": "https://localhost:8080/",
          "height": 301
        }
      },
      "source": [
        "plt.plot(expon_lr.rates, expon_lr.losses)\n",
        "plt.gca().set_xscale('log')\n",
        "#plt.hlines(min(expon_lr.losses), min(expon_lr.rates), max(expon_lr.rates))\n",
        "#plt.axis([min(expon_lr.rates), max(expon_lr.rates), 0, expon_lr.losses[0]])\n",
        "plt.xlim(0.001,0.01)\n",
        "plt.grid()\n",
        "plt.xlabel(\"Learning rate\")\n",
        "plt.ylabel(\"Loss\")"
      ],
      "execution_count": 33,
      "outputs": [
        {
          "output_type": "execute_result",
          "data": {
            "text/plain": [
              "Text(0, 0.5, 'Loss')"
            ]
          },
          "metadata": {},
          "execution_count": 33
        },
        {
          "output_type": "display_data",
          "data": {
            "image/png": "[encoded data removed]",
            "text/plain": [
              "<Figure size 432x288 with 1 Axes>"
            ]
          },
          "metadata": {
            "needs_background": "light"
          }
        }
      ]
    },
    {
      "cell_type": "code",
      "metadata": {
        "id": "wef63QUaxE-2",
        "outputId": "19025093-901c-4495-823d-2d48f74c777c",
        "colab": {
          "base_uri": "https://localhost:8080/",
          "height": 283
        }
      },
      "source": [
        "plt.plot(expon_lr.rates, expon_lr.losses)"
      ],
      "execution_count": 30,
      "outputs": [
        {
          "output_type": "execute_result",
          "data": {
            "text/plain": [
              "[<matplotlib.lines.Line2D at 0x7f8e8ab27e10>]"
            ]
          },
          "metadata": {},
          "execution_count": 30
        },
        {
          "output_type": "display_data",
          "data": {
            "image/png": "[encoded data removed]",
            "text/plain": [
              "<Figure size 432x288 with 1 Axes>"
            ]
          },
          "metadata": {
            "needs_background": "light"
          }
        }
      ]
    },
    {
      "cell_type": "code",
      "metadata": {
        "id": "DndqOSXD9jeo",
        "outputId": "d058ffbc-ee61-4427-efd6-98ce1eb4eb9f",
        "colab": {
          "base_uri": "https://localhost:8080/",
          "height": 334
        }
      },
      "source": [
        "import pandas as pd\n",
        "import matplotlib.pyplot as plt\n",
        "\n",
        "pd.DataFrame(history.history).plot(figsize=(8,5))\n",
        "plt.grid(True)\n",
        "plt.xlabel(\"epochs\")\n",
        "plt.ylabel('Error')\n",
        "plt.show()"
      ],
      "execution_count": 35,
      "outputs": [
        {
          "output_type": "display_data",
          "data": {
            "image/png": "[encoded data removed]",
            "text/plain": [
              "<Figure size 576x360 with 1 Axes>"
            ]
          },
          "metadata": {
            "needs_background": "light"
          }
        }
      ]
    },
    {
      "cell_type": "markdown",
      "metadata": {
        "id": "oLoN43278_-j"
      },
      "source": [
        "## Evaluate the Model  \n",
        "### Along with the model accuracy, the prefered metric for evaluation is ROC (Receiver Operating Characteristic) curve and the AUC score (Area under the ROC Curve)."
      ]
    },
    {
      "cell_type": "code",
      "metadata": {
        "id": "ekuQLYas7xh5",
        "colab": {
          "base_uri": "https://localhost:8080/"
        },
        "outputId": "063327a6-467e-47f3-a20a-4e12af931dcb"
      },
      "source": [
        "# Evaluate on validation set\n",
        "score = model.evaluate(X_valid, y_valid, verbose=1)\n",
        "print('\\nValidation loss / accuracy: %0.4f / %0.4f'%(score[0], score[1]))\n",
        "y_pred = model.predict(X_valid)\n",
        "fpr, tpr, _ = roc_curve(y_valid, y_pred)\n",
        "roc_auc = auc(fpr, tpr)\n",
        "print('Validation ROC AUC:', roc_auc)\n",
        "\n",
        "# Evaluate on test set\n",
        "score = model.evaluate(X_test, y_test, verbose=1)\n",
        "print('\\nTest loss / accuracy: %0.4f / %0.4f'%(score[0], score[1]))\n",
        "y_pred = model.predict(X_test)\n",
        "fpr, tpr, _ = roc_curve(y_test, y_pred)\n",
        "roc_auc = auc(fpr, tpr)\n",
        "print('Test ROC AUC:', roc_auc)"
      ],
      "execution_count": 36,
      "outputs": [
        {
          "output_type": "stream",
          "name": "stdout",
          "text": [
            "625/625 [==============================] - 2s 4ms/step - loss: 0.5430 - accuracy: 0.7306\n",
            "\n",
            "Validation loss / accuracy: 0.5430 / 0.7306\n",
            "Validation ROC AUC: 0.79940872\n",
            "625/625 [==============================] - 2s 4ms/step - loss: 0.5474 - accuracy: 0.7278\n",
            "\n",
            "Test loss / accuracy: 0.5474 / 0.7278\n",
            "Test ROC AUC: 0.79657632\n"
          ]
        }
      ]
    },
    {
      "cell_type": "code",
      "metadata": {
        "id": "kmSRYI0R72Wn",
        "colab": {
          "base_uri": "https://localhost:8080/",
          "height": 295
        },
        "outputId": "9a39328b-1e4d-416d-b1ef-85a507d4bef9"
      },
      "source": [
        "plt.plot([0, 1], [0, 1], 'k--')\n",
        "#plt.legend(loc=2, prop={'size': 15})\n",
        "plt.plot(fpr, tpr, label='Model 1 (ROC-AUC = {:.3f})'.format(roc_auc))\n",
        "plt.xlabel('False positive rate')\n",
        "plt.ylabel('True positive rate')\n",
        "plt.title('ROC curve')\n",
        "plt.legend(loc='best')\n",
        "plt.show()"
      ],
      "execution_count": 37,
      "outputs": [
        {
          "output_type": "display_data",
          "data": {
            "image/png": "[encoded data removed]",
            "text/plain": [
              "<Figure size 432x288 with 1 Axes>"
            ]
          },
          "metadata": {
            "needs_background": "light"
          }
        }
      ]
    },
    {
      "cell_type": "markdown",
      "metadata": {
        "id": "d6rhC2zoY_el"
      },
      "source": [
        "#ResNet\n",
        "\n",
        "\n"
      ]
    },
    {
      "cell_type": "code",
      "metadata": {
        "id": "p3Cyc3O6ZQnj"
      },
      "source": [
        "from functools import partial\n",
        "#Let's create a ResidualUnit layer\n",
        "import tensorflow as tf\n",
        "import keras\n",
        "DefaultConv2D = partial(Conv2D, kernel_size=3, strides=1,\n",
        "                        padding=\"SAME\", use_bias=False)\n",
        "\n",
        "class ResidualUnit(tensorflow.keras.layers.Layer):\n",
        "    def __init__(self, filters, strides=1, activation=\"relu\", **kwargs):\n",
        "        super().__init__(**kwargs)\n",
        "        self.activation = tensorflow.keras.activations.get(activation)\n",
        "        self.main_layers = [\n",
        "            DefaultConv2D(filters, strides=strides),\n",
        "            BatchNormalization(),\n",
        "            self.activation,\n",
        "            DefaultConv2D(filters),\n",
        "            BatchNormalization()]\n",
        "        self.skip_layers = []\n",
        "        if strides > 1:\n",
        "            self.skip_layers = [\n",
        "                DefaultConv2D(filters, kernel_size=1, strides=strides),\n",
        "                BatchNormalization()]\n",
        "\n",
        "    def call(self, inputs):\n",
        "        Z = inputs\n",
        "        for layer in self.main_layers:\n",
        "            Z = layer(Z)\n",
        "        skip_Z = inputs\n",
        "        for layer in self.skip_layers:\n",
        "            skip_Z = layer(skip_Z)\n",
        "        return self.activation(Z + skip_Z)"
      ],
      "execution_count": 38,
      "outputs": []
    },
    {
      "cell_type": "markdown",
      "metadata": {
        "id": "5ZXyrs_eZWeN"
      },
      "source": [
        "Creating 2 convoluation layers each with 16 filters (kernel_size=3) followed by a Max pooling layer. After the pooling layer 4 residual layers, with different filter sizes (16, 32, and 64) are added. The residual block is followed by the Max pooling layer. Then 3 dense layers are added and an output dense layer with one neuron."
      ]
    },
    {
      "cell_type": "code",
      "metadata": {
        "id": "jIt1QYyuZZ1V"
      },
      "source": [
        "tensorflow.keras.backend.clear_session()\n",
        "model = Sequential()\n",
        "model.add(Conv2D(16, kernel_size=3, padding='same', kernel_initializer='TruncatedNormal', \n",
        "                 input_shape=(img_rows, img_cols, nb_channels)))\n",
        "model.add(BatchNormalization())\n",
        "model.add(Activation(\"relu\"))\n",
        "model.add(DefaultConv2D(16, kernel_size=3, padding='same', kernel_initializer='TruncatedNormal'))\n",
        "model.add(BatchNormalization())\n",
        "model.add(Activation(\"relu\"))\n",
        "model.add(MaxPooling2D(pool_size=3, strides=2, padding=\"SAME\"))\n",
        "prev_filters = 64\n",
        "for filters in [16] * 1 + [32] * 2 + [64] * 1:\n",
        "    strides = 1 if filters == prev_filters else 2\n",
        "    model.add(ResidualUnit(filters, strides=strides))\n",
        "    prev_filters = filters\n",
        "model.add(MaxPooling2D(pool_size=3, strides=1, padding=\"SAME\"))\n",
        "model.add(Flatten())\n",
        "model.add(Dense(256, activation='relu'))\n",
        "model.add(BatchNormalization())\n",
        "model.add(Dropout(0.3))\n",
        "model.add(Dense(128, activation='relu'))\n",
        "model.add(BatchNormalization())\n",
        "model.add(Dropout(0.3))\n",
        "model.add(Dense(64, activation='relu'))\n",
        "model.add(BatchNormalization())\n",
        "model.add(Dropout(0.2))\n",
        "model.add(Dense(1, activation=\"sigmoid\"))\n"
      ],
      "execution_count": 39,
      "outputs": []
    },
    {
      "cell_type": "code",
      "metadata": {
        "id": "T_Cj01zyZhRM",
        "outputId": "90d5030b-c2f0-4999-f5f0-17dee89dd584",
        "colab": {
          "base_uri": "https://localhost:8080/"
        }
      },
      "source": [
        "model.compile(loss='binary_crossentropy', optimizer=Nadam(lr=lr_init), metrics=['accuracy'])"
      ],
      "execution_count": 40,
      "outputs": [
        {
          "output_type": "stream",
          "name": "stderr",
          "text": [
            "/usr/local/lib/python3.7/dist-packages/keras/optimizer_v2/nadam.py:73: UserWarning: The `lr` argument is deprecated, use `learning_rate` instead.\n",
            "  super(Nadam, self).__init__(name, **kwargs)\n"
          ]
        }
      ]
    },
    {
      "cell_type": "code",
      "metadata": {
        "id": "08rlC78CZhOl",
        "outputId": "b281b5b5-3653-4c45-c8a3-5a1687eef259",
        "colab": {
          "base_uri": "https://localhost:8080/"
        }
      },
      "source": [
        "reduce_lr = ReduceLROnPlateau(monitor='val_loss', factor=0.5, patience=2, min_lr=1.e-6)\n",
        "#learning_schedule = \n",
        "history=model.fit(X_train, y_train,\\\n",
        "        batch_size=batch_size,\\\n",
        "        epochs=epochs,\\\n",
        "        validation_data=(X_valid, y_valid),\\\n",
        "        callbacks=[reduce_lr],\\\n",
        "        verbose=1, shuffle=True)"
      ],
      "execution_count": 41,
      "outputs": [
        {
          "output_type": "stream",
          "name": "stdout",
          "text": [
            "Epoch 1/25\n",
            "4000/4000 [==============================] - 99s 23ms/step - loss: 0.6613 - accuracy: 0.6120 - val_loss: 0.7205 - val_accuracy: 0.5400 - lr: 0.0010\n",
            "Epoch 2/25\n",
            "4000/4000 [==============================] - 95s 24ms/step - loss: 0.6021 - accuracy: 0.6841 - val_loss: 0.5820 - val_accuracy: 0.7041 - lr: 0.0010\n",
            "Epoch 3/25\n",
            "4000/4000 [==============================] - 97s 24ms/step - loss: 0.5841 - accuracy: 0.7023 - val_loss: 0.5949 - val_accuracy: 0.6971 - lr: 0.0010\n",
            "Epoch 4/25\n",
            "4000/4000 [==============================] - 99s 25ms/step - loss: 0.5752 - accuracy: 0.7095 - val_loss: 0.7333 - val_accuracy: 0.5042 - lr: 0.0010\n",
            "Epoch 5/25\n",
            "4000/4000 [==============================] - 97s 24ms/step - loss: 0.5627 - accuracy: 0.7193 - val_loss: 0.7870 - val_accuracy: 0.5224 - lr: 5.0000e-04\n",
            "Epoch 6/25\n",
            "4000/4000 [==============================] - 99s 25ms/step - loss: 0.5597 - accuracy: 0.7213 - val_loss: 0.5911 - val_accuracy: 0.7031 - lr: 5.0000e-04\n",
            "Epoch 7/25\n",
            "4000/4000 [==============================] - 97s 24ms/step - loss: 0.5526 - accuracy: 0.7263 - val_loss: 0.5537 - val_accuracy: 0.7230 - lr: 2.5000e-04\n",
            "Epoch 8/25\n",
            "4000/4000 [==============================] - 97s 24ms/step - loss: 0.5507 - accuracy: 0.7276 - val_loss: 0.7240 - val_accuracy: 0.5235 - lr: 2.5000e-04\n",
            "Epoch 9/25\n",
            "4000/4000 [==============================] - 97s 24ms/step - loss: 0.5486 - accuracy: 0.7290 - val_loss: 0.5942 - val_accuracy: 0.6999 - lr: 2.5000e-04\n",
            "Epoch 10/25\n",
            "4000/4000 [==============================] - 97s 24ms/step - loss: 0.5442 - accuracy: 0.7327 - val_loss: 0.5527 - val_accuracy: 0.7228 - lr: 1.2500e-04\n",
            "Epoch 11/25\n",
            "4000/4000 [==============================] - 97s 24ms/step - loss: 0.5430 - accuracy: 0.7337 - val_loss: 0.5559 - val_accuracy: 0.7218 - lr: 1.2500e-04\n",
            "Epoch 12/25\n",
            "4000/4000 [==============================] - 97s 24ms/step - loss: 0.5423 - accuracy: 0.7339 - val_loss: 0.5747 - val_accuracy: 0.7117 - lr: 1.2500e-04\n",
            "Epoch 13/25\n",
            "4000/4000 [==============================] - 100s 25ms/step - loss: 0.5407 - accuracy: 0.7349 - val_loss: 0.5466 - val_accuracy: 0.7276 - lr: 6.2500e-05\n",
            "Epoch 14/25\n",
            "4000/4000 [==============================] - 97s 24ms/step - loss: 0.5397 - accuracy: 0.7352 - val_loss: 0.5567 - val_accuracy: 0.7223 - lr: 6.2500e-05\n",
            "Epoch 15/25\n",
            "4000/4000 [==============================] - 98s 24ms/step - loss: 0.5391 - accuracy: 0.7367 - val_loss: 0.5411 - val_accuracy: 0.7323 - lr: 6.2500e-05\n",
            "Epoch 16/25\n",
            "4000/4000 [==============================] - 98s 25ms/step - loss: 0.5388 - accuracy: 0.7367 - val_loss: 0.5419 - val_accuracy: 0.7319 - lr: 6.2500e-05\n",
            "Epoch 17/25\n",
            "4000/4000 [==============================] - 100s 25ms/step - loss: 0.5371 - accuracy: 0.7374 - val_loss: 0.5431 - val_accuracy: 0.7316 - lr: 6.2500e-05\n",
            "Epoch 18/25\n",
            "4000/4000 [==============================] - 97s 24ms/step - loss: 0.5364 - accuracy: 0.7379 - val_loss: 0.5409 - val_accuracy: 0.7325 - lr: 3.1250e-05\n",
            "Epoch 19/25\n",
            "4000/4000 [==============================] - 100s 25ms/step - loss: 0.5355 - accuracy: 0.7387 - val_loss: 0.5429 - val_accuracy: 0.7315 - lr: 3.1250e-05\n",
            "Epoch 20/25\n",
            "4000/4000 [==============================] - 98s 25ms/step - loss: 0.5350 - accuracy: 0.7393 - val_loss: 0.5424 - val_accuracy: 0.7319 - lr: 3.1250e-05\n",
            "Epoch 21/25\n",
            "4000/4000 [==============================] - 99s 25ms/step - loss: 0.5354 - accuracy: 0.7385 - val_loss: 0.5405 - val_accuracy: 0.7308 - lr: 1.5625e-05\n",
            "Epoch 22/25\n",
            "4000/4000 [==============================] - 98s 25ms/step - loss: 0.5351 - accuracy: 0.7389 - val_loss: 0.5406 - val_accuracy: 0.7336 - lr: 1.5625e-05\n",
            "Epoch 23/25\n",
            "4000/4000 [==============================] - 98s 24ms/step - loss: 0.5348 - accuracy: 0.7399 - val_loss: 0.5420 - val_accuracy: 0.7324 - lr: 1.5625e-05\n",
            "Epoch 24/25\n",
            "4000/4000 [==============================] - 101s 25ms/step - loss: 0.5341 - accuracy: 0.7404 - val_loss: 0.5408 - val_accuracy: 0.7329 - lr: 7.8125e-06\n",
            "Epoch 25/25\n",
            "4000/4000 [==============================] - 100s 25ms/step - loss: 0.5334 - accuracy: 0.7402 - val_loss: 0.5411 - val_accuracy: 0.7311 - lr: 7.8125e-06\n"
          ]
        }
      ]
    },
    {
      "cell_type": "code",
      "metadata": {
        "id": "GN1k4WGKcWjp",
        "outputId": "35cd7c05-e297-4cfe-cf34-a35b4f485a35",
        "colab": {
          "base_uri": "https://localhost:8080/"
        }
      },
      "source": [
        "# Evaluate on validation set\n",
        "score = model.evaluate(X_valid, y_valid, verbose=1)\n",
        "print('\\nValidation loss / accuracy: %0.4f / %0.4f'%(score[0], score[1]))\n",
        "y_pred = model.predict(X_valid)\n",
        "fpr, tpr, _ = roc_curve(y_valid, y_pred)\n",
        "roc_auc = auc(fpr, tpr)\n",
        "print('Validation ROC AUC:', roc_auc)\n",
        "\n",
        "# Evaluate on test set\n",
        "score = model.evaluate(X_test, y_test, verbose=1)\n",
        "print('\\nTest loss / accuracy: %0.4f / %0.4f'%(score[0], score[1]))\n",
        "y_pred = model.predict(X_test)\n",
        "fpr, tpr, _ = roc_curve(y_test, y_pred)\n",
        "roc_auc = auc(fpr, tpr)\n",
        "print('Test ROC AUC:', roc_auc)"
      ],
      "execution_count": 42,
      "outputs": [
        {
          "output_type": "stream",
          "name": "stdout",
          "text": [
            "625/625 [==============================] - 3s 5ms/step - loss: 0.5411 - accuracy: 0.7311\n",
            "\n",
            "Validation loss / accuracy: 0.5411 / 0.7311\n",
            "Validation ROC AUC: 0.80157872\n",
            "625/625 [==============================] - 3s 5ms/step - loss: 0.5443 - accuracy: 0.7301\n",
            "\n",
            "Test loss / accuracy: 0.5443 / 0.7301\n",
            "Test ROC AUC: 0.799469535\n"
          ]
        }
      ]
    },
    {
      "cell_type": "code",
      "metadata": {
        "id": "stY8WqqHcdZA",
        "outputId": "e2013a74-8c16-4fb9-cf0d-9f62060c7fa6",
        "colab": {
          "base_uri": "https://localhost:8080/",
          "height": 295
        }
      },
      "source": [
        "plt.figure()\n",
        "lw = 2\n",
        "plt.plot(fpr, tpr, color='red',\n",
        "         lw=lw, label='ResNet ROC curve (area = %0.3f)' % roc_auc)\n",
        "plt.plot([0, 1], [0, 1], color='navy', lw=lw, linestyle='--')\n",
        "plt.xlim([0.0, 1.0])\n",
        "plt.ylim([0.0, 1.05])\n",
        "plt.xlabel('False Positive Rate')\n",
        "plt.ylabel('True Positive Rate')\n",
        "plt.title('Receiver operating characteristic (ROC) curve')\n",
        "plt.legend(loc=\"lower right\", fontsize=13)\n",
        "plt.show()"
      ],
      "execution_count": 43,
      "outputs": [
        {
          "output_type": "display_data",
          "data": {
            "image/png": "[encoded data removed]",
            "text/plain": [
              "<Figure size 432x288 with 1 Axes>"
            ]
          },
          "metadata": {
            "needs_background": "light"
          }
        }
      ]
    },
    {
      "cell_type": "markdown",
      "metadata": {
        "id": "Nna7GkM45Y5w"
      },
      "source": [
        "# Submission format: \n",
        "### Please submit the Google Colab Jupyter Notebook demonstrating your solution in the similar format as illustrated in this notebook. It should contain :\n",
        "*   The final model architecture, parameters and hyper-parameters yielding the best possible performance,\n",
        "*   Its Training and Validation accuracy, \n",
        "*   ROC curve and the AUC score as shown above.\n",
        "*   Also, please submit the final trained model containing the model architecture and its trained weights along with this notebook (For example: HDF5 file, .pb file, .pt file, etc.). You are free to choose Machine Learning Framework of your choice. "
      ]
    },
    {
      "cell_type": "code",
      "metadata": {
        "id": "ek82eKnpBuI8"
      },
      "source": [
        ""
      ],
      "execution_count": null,
      "outputs": []
    }
  ]
}